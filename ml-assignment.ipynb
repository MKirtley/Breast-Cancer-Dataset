{
 "cells": [
  {
   "cell_type": "markdown",
   "metadata": {},
   "source": [
    "# Machine Learning Assignment\n"
   ]
  },
  {
   "cell_type": "markdown",
   "metadata": {},
   "source": [
    "## Loading the dataset"
   ]
  },
  {
   "cell_type": "code",
   "execution_count": 19,
   "metadata": {
    "ExecuteTime": {
     "end_time": "2021-01-15T12:12:12.717228Z",
     "start_time": "2021-01-15T12:12:12.668240Z"
    }
   },
   "outputs": [
    {
     "name": "stdout",
     "output_type": "stream",
     "text": [
      "<class 'pandas.core.frame.DataFrame'>\n",
      "RangeIndex: 569 entries, 0 to 568\n",
      "Data columns (total 32 columns):\n",
      " #   Column                     Non-Null Count  Dtype  \n",
      "---  ------                     --------------  -----  \n",
      " 0   ID                         568 non-null    float64\n",
      " 1   Radius (Mean)              550 non-null    float64\n",
      " 2   Texture (Mean)             568 non-null    float64\n",
      " 3   Perimeter (Mean)           567 non-null    float64\n",
      " 4   Area (Mean)                566 non-null    float64\n",
      " 5   Smoothness (Mean)          567 non-null    float64\n",
      " 6   Compactness (Mean)         566 non-null    float64\n",
      " 7   Concavity (Mean)           569 non-null    float64\n",
      " 8   Concave Points (Mean)      569 non-null    float64\n",
      " 9   Symmetry (Mean)            566 non-null    float64\n",
      " 10  Fractal Dimension (Mean)   567 non-null    float64\n",
      " 11  Radius (Error)             551 non-null    float64\n",
      " 12  Texture (Error)            567 non-null    float64\n",
      " 13  Perimeter (Error)          568 non-null    float64\n",
      " 14  Area (Error)               567 non-null    float64\n",
      " 15  Smoothness (Error)         566 non-null    float64\n",
      " 16  Compactness (Error)        568 non-null    float64\n",
      " 17  Concavity (Error)          568 non-null    float64\n",
      " 18  Concave Points (Error)     567 non-null    float64\n",
      " 19  Symmetry (Error)           568 non-null    float64\n",
      " 20  Fractal Dimension (Error)  567 non-null    float64\n",
      " 21  Radius (Worst)             551 non-null    float64\n",
      " 22  Texture (Worst)            566 non-null    float64\n",
      " 23  Perimeter (Worst)          567 non-null    float64\n",
      " 24  Area (Worst)               566 non-null    float64\n",
      " 25  Smoothness (Worst)         569 non-null    float64\n",
      " 26  Compactness (Worst)        565 non-null    float64\n",
      " 27  Concavity (Worst)          567 non-null    float64\n",
      " 28  Concave Points (Worst)     566 non-null    float64\n",
      " 29  Symmetry (Worst)           566 non-null    float64\n",
      " 30  Fractal Dimension (Worst)  565 non-null    float64\n",
      " 31  Diagnosis                  569 non-null    object \n",
      "dtypes: float64(31), object(1)\n",
      "memory usage: 142.4+ KB\n",
      "None\n"
     ]
    },
    {
     "data": {
      "text/html": [
       "<div>\n",
       "<style scoped>\n",
       "    .dataframe tbody tr th:only-of-type {\n",
       "        vertical-align: middle;\n",
       "    }\n",
       "\n",
       "    .dataframe tbody tr th {\n",
       "        vertical-align: top;\n",
       "    }\n",
       "\n",
       "    .dataframe thead th {\n",
       "        text-align: right;\n",
       "    }\n",
       "</style>\n",
       "<table border=\"1\" class=\"dataframe\">\n",
       "  <thead>\n",
       "    <tr style=\"text-align: right;\">\n",
       "      <th></th>\n",
       "      <th>ID</th>\n",
       "      <th>Radius (Mean)</th>\n",
       "      <th>Texture (Mean)</th>\n",
       "      <th>Perimeter (Mean)</th>\n",
       "      <th>Area (Mean)</th>\n",
       "      <th>Smoothness (Mean)</th>\n",
       "      <th>Compactness (Mean)</th>\n",
       "      <th>Concavity (Mean)</th>\n",
       "      <th>Concave Points (Mean)</th>\n",
       "      <th>Symmetry (Mean)</th>\n",
       "      <th>...</th>\n",
       "      <th>Texture (Worst)</th>\n",
       "      <th>Perimeter (Worst)</th>\n",
       "      <th>Area (Worst)</th>\n",
       "      <th>Smoothness (Worst)</th>\n",
       "      <th>Compactness (Worst)</th>\n",
       "      <th>Concavity (Worst)</th>\n",
       "      <th>Concave Points (Worst)</th>\n",
       "      <th>Symmetry (Worst)</th>\n",
       "      <th>Fractal Dimension (Worst)</th>\n",
       "      <th>Diagnosis</th>\n",
       "    </tr>\n",
       "  </thead>\n",
       "  <tbody>\n",
       "    <tr>\n",
       "      <th>0</th>\n",
       "      <td>842302.0</td>\n",
       "      <td>17.99</td>\n",
       "      <td>10.38</td>\n",
       "      <td>122.80</td>\n",
       "      <td>1001.0</td>\n",
       "      <td>0.11840</td>\n",
       "      <td>0.27760</td>\n",
       "      <td>0.3001</td>\n",
       "      <td>0.14710</td>\n",
       "      <td>0.2419</td>\n",
       "      <td>...</td>\n",
       "      <td>17.33</td>\n",
       "      <td>184.60</td>\n",
       "      <td>2019.0</td>\n",
       "      <td>0.1622</td>\n",
       "      <td>0.6656</td>\n",
       "      <td>0.7119</td>\n",
       "      <td>NaN</td>\n",
       "      <td>0.4601</td>\n",
       "      <td>0.11890</td>\n",
       "      <td>M</td>\n",
       "    </tr>\n",
       "    <tr>\n",
       "      <th>1</th>\n",
       "      <td>842517.0</td>\n",
       "      <td>20.57</td>\n",
       "      <td>17.77</td>\n",
       "      <td>132.90</td>\n",
       "      <td>1326.0</td>\n",
       "      <td>0.08474</td>\n",
       "      <td>0.07864</td>\n",
       "      <td>0.0869</td>\n",
       "      <td>0.07017</td>\n",
       "      <td>0.1812</td>\n",
       "      <td>...</td>\n",
       "      <td>23.41</td>\n",
       "      <td>158.80</td>\n",
       "      <td>1956.0</td>\n",
       "      <td>0.1238</td>\n",
       "      <td>0.1866</td>\n",
       "      <td>0.2416</td>\n",
       "      <td>0.1860</td>\n",
       "      <td>0.2750</td>\n",
       "      <td>0.08902</td>\n",
       "      <td>M</td>\n",
       "    </tr>\n",
       "    <tr>\n",
       "      <th>2</th>\n",
       "      <td>84300903.0</td>\n",
       "      <td>19.69</td>\n",
       "      <td>21.25</td>\n",
       "      <td>130.00</td>\n",
       "      <td>1203.0</td>\n",
       "      <td>0.10960</td>\n",
       "      <td>0.15990</td>\n",
       "      <td>0.1974</td>\n",
       "      <td>0.12790</td>\n",
       "      <td>0.2069</td>\n",
       "      <td>...</td>\n",
       "      <td>25.53</td>\n",
       "      <td>152.50</td>\n",
       "      <td>1709.0</td>\n",
       "      <td>0.1444</td>\n",
       "      <td>0.4245</td>\n",
       "      <td>0.4504</td>\n",
       "      <td>0.2430</td>\n",
       "      <td>0.3613</td>\n",
       "      <td>0.08758</td>\n",
       "      <td>M</td>\n",
       "    </tr>\n",
       "    <tr>\n",
       "      <th>3</th>\n",
       "      <td>84348301.0</td>\n",
       "      <td>11.42</td>\n",
       "      <td>20.38</td>\n",
       "      <td>77.58</td>\n",
       "      <td>386.1</td>\n",
       "      <td>0.14250</td>\n",
       "      <td>0.28390</td>\n",
       "      <td>0.2414</td>\n",
       "      <td>0.10520</td>\n",
       "      <td>0.2597</td>\n",
       "      <td>...</td>\n",
       "      <td>26.50</td>\n",
       "      <td>98.87</td>\n",
       "      <td>567.7</td>\n",
       "      <td>0.2098</td>\n",
       "      <td>0.8663</td>\n",
       "      <td>0.6869</td>\n",
       "      <td>0.2575</td>\n",
       "      <td>0.6638</td>\n",
       "      <td>0.17300</td>\n",
       "      <td>M</td>\n",
       "    </tr>\n",
       "    <tr>\n",
       "      <th>4</th>\n",
       "      <td>84358402.0</td>\n",
       "      <td>20.29</td>\n",
       "      <td>14.34</td>\n",
       "      <td>135.10</td>\n",
       "      <td>1297.0</td>\n",
       "      <td>0.10030</td>\n",
       "      <td>0.13280</td>\n",
       "      <td>0.1980</td>\n",
       "      <td>0.10430</td>\n",
       "      <td>0.1809</td>\n",
       "      <td>...</td>\n",
       "      <td>16.67</td>\n",
       "      <td>152.20</td>\n",
       "      <td>1575.0</td>\n",
       "      <td>0.1374</td>\n",
       "      <td>0.2050</td>\n",
       "      <td>0.4000</td>\n",
       "      <td>0.1625</td>\n",
       "      <td>0.2364</td>\n",
       "      <td>0.07678</td>\n",
       "      <td>M</td>\n",
       "    </tr>\n",
       "  </tbody>\n",
       "</table>\n",
       "<p>5 rows × 32 columns</p>\n",
       "</div>"
      ],
      "text/plain": [
       "           ID  Radius (Mean)  Texture (Mean)  Perimeter (Mean)  Area (Mean)  \\\n",
       "0    842302.0          17.99           10.38            122.80       1001.0   \n",
       "1    842517.0          20.57           17.77            132.90       1326.0   \n",
       "2  84300903.0          19.69           21.25            130.00       1203.0   \n",
       "3  84348301.0          11.42           20.38             77.58        386.1   \n",
       "4  84358402.0          20.29           14.34            135.10       1297.0   \n",
       "\n",
       "   Smoothness (Mean)  Compactness (Mean)  Concavity (Mean)  \\\n",
       "0            0.11840             0.27760            0.3001   \n",
       "1            0.08474             0.07864            0.0869   \n",
       "2            0.10960             0.15990            0.1974   \n",
       "3            0.14250             0.28390            0.2414   \n",
       "4            0.10030             0.13280            0.1980   \n",
       "\n",
       "   Concave Points (Mean)  Symmetry (Mean)  ...  Texture (Worst)  \\\n",
       "0                0.14710           0.2419  ...            17.33   \n",
       "1                0.07017           0.1812  ...            23.41   \n",
       "2                0.12790           0.2069  ...            25.53   \n",
       "3                0.10520           0.2597  ...            26.50   \n",
       "4                0.10430           0.1809  ...            16.67   \n",
       "\n",
       "   Perimeter (Worst)  Area (Worst)  Smoothness (Worst)  Compactness (Worst)  \\\n",
       "0             184.60        2019.0              0.1622               0.6656   \n",
       "1             158.80        1956.0              0.1238               0.1866   \n",
       "2             152.50        1709.0              0.1444               0.4245   \n",
       "3              98.87         567.7              0.2098               0.8663   \n",
       "4             152.20        1575.0              0.1374               0.2050   \n",
       "\n",
       "   Concavity (Worst)  Concave Points (Worst)  Symmetry (Worst)  \\\n",
       "0             0.7119                     NaN            0.4601   \n",
       "1             0.2416                  0.1860            0.2750   \n",
       "2             0.4504                  0.2430            0.3613   \n",
       "3             0.6869                  0.2575            0.6638   \n",
       "4             0.4000                  0.1625            0.2364   \n",
       "\n",
       "   Fractal Dimension (Worst)  Diagnosis  \n",
       "0                    0.11890          M  \n",
       "1                    0.08902          M  \n",
       "2                    0.08758          M  \n",
       "3                    0.17300          M  \n",
       "4                    0.07678          M  \n",
       "\n",
       "[5 rows x 32 columns]"
      ]
     },
     "execution_count": 19,
     "metadata": {},
     "output_type": "execute_result"
    }
   ],
   "source": [
    "import pandas as pd\n",
    "import matplotlib.pyplot as plt\n",
    "import numpy as np\n",
    "import math\n",
    "import seaborn as sns\n",
    "\n",
    "from sklearn.model_selection import StratifiedKFold\n",
    "from sklearn.impute import KNNImputer\n",
    "from sklearn.model_selection import GridSearchCV\n",
    "from sklearn.model_selection import RandomizedSearchCV\n",
    "from sklearn import preprocessing\n",
    "from sklearn.tree import DecisionTreeClassifier\n",
    "from sklearn.neighbors import KNeighborsClassifier\n",
    "from sklearn.model_selection import train_test_split\n",
    "from sklearn import metrics\n",
    "from sklearn.model_selection import cross_val_score\n",
    "from sklearn.model_selection import cross_validate\n",
    "from sklearn.model_selection import cross_val_predict\n",
    "from sklearn.metrics import make_scorer, accuracy_score, precision_score, recall_score, f1_score, confusion_matrix\n",
    "\n",
    "from scipy.stats import randint as sp_randint\n",
    "from scipy import stats\n",
    "from scipy.stats import pearsonr, spearmanr\n",
    "from time import time\n",
    "\n",
    "# Feature selection & feature engineering\n",
    "from sklearn.feature_selection import RFE\n",
    "from sklearn.feature_selection import RFECV\n",
    "from sklearn.decomposition import PCA\n",
    "\n",
    "from IPython.display import SVG\n",
    "from graphviz import Source\n",
    "from IPython.display import display\n",
    "from sklearn.tree import export_graphviz\n",
    "\n",
    "\n",
    "df = pd.read_csv('data/breast-cancer.csv')\n",
    "\n",
    "print(df.info())\n",
    "df.head()"
   ]
  },
  {
   "cell_type": "markdown",
   "metadata": {},
   "source": [
    "## Processing the dataset\n",
    "\n",
    "First, you need to clean the data."
   ]
  },
  {
   "cell_type": "code",
   "execution_count": 2,
   "metadata": {
    "ExecuteTime": {
     "end_time": "2021-01-15T12:11:51.066100Z",
     "start_time": "2021-01-15T12:11:50.716375Z"
    }
   },
   "outputs": [
    {
     "data": {
      "text/html": [
       "<div>\n",
       "<style scoped>\n",
       "    .dataframe tbody tr th:only-of-type {\n",
       "        vertical-align: middle;\n",
       "    }\n",
       "\n",
       "    .dataframe tbody tr th {\n",
       "        vertical-align: top;\n",
       "    }\n",
       "\n",
       "    .dataframe thead th {\n",
       "        text-align: right;\n",
       "    }\n",
       "</style>\n",
       "<table border=\"1\" class=\"dataframe\">\n",
       "  <thead>\n",
       "    <tr style=\"text-align: right;\">\n",
       "      <th></th>\n",
       "      <th>ID</th>\n",
       "      <th>Radius (Mean)</th>\n",
       "      <th>Texture (Mean)</th>\n",
       "      <th>Perimeter (Mean)</th>\n",
       "      <th>Area (Mean)</th>\n",
       "      <th>Smoothness (Mean)</th>\n",
       "      <th>Compactness (Mean)</th>\n",
       "      <th>Concavity (Mean)</th>\n",
       "      <th>Concave Points (Mean)</th>\n",
       "      <th>Symmetry (Mean)</th>\n",
       "      <th>...</th>\n",
       "      <th>Radius (Worst)</th>\n",
       "      <th>Texture (Worst)</th>\n",
       "      <th>Perimeter (Worst)</th>\n",
       "      <th>Area (Worst)</th>\n",
       "      <th>Smoothness (Worst)</th>\n",
       "      <th>Compactness (Worst)</th>\n",
       "      <th>Concavity (Worst)</th>\n",
       "      <th>Concave Points (Worst)</th>\n",
       "      <th>Symmetry (Worst)</th>\n",
       "      <th>Fractal Dimension (Worst)</th>\n",
       "    </tr>\n",
       "  </thead>\n",
       "  <tbody>\n",
       "    <tr>\n",
       "      <th>count</th>\n",
       "      <td>5.680000e+02</td>\n",
       "      <td>550.000000</td>\n",
       "      <td>568.000000</td>\n",
       "      <td>567.000000</td>\n",
       "      <td>566.000000</td>\n",
       "      <td>567.000000</td>\n",
       "      <td>566.000000</td>\n",
       "      <td>569.000000</td>\n",
       "      <td>569.000000</td>\n",
       "      <td>566.000000</td>\n",
       "      <td>...</td>\n",
       "      <td>551.000000</td>\n",
       "      <td>566.000000</td>\n",
       "      <td>567.000000</td>\n",
       "      <td>566.000000</td>\n",
       "      <td>569.000000</td>\n",
       "      <td>565.000000</td>\n",
       "      <td>567.000000</td>\n",
       "      <td>566.000000</td>\n",
       "      <td>566.000000</td>\n",
       "      <td>565.000000</td>\n",
       "    </tr>\n",
       "    <tr>\n",
       "      <th>mean</th>\n",
       "      <td>3.042370e+07</td>\n",
       "      <td>14.123118</td>\n",
       "      <td>19.280986</td>\n",
       "      <td>92.010459</td>\n",
       "      <td>654.704064</td>\n",
       "      <td>0.096376</td>\n",
       "      <td>0.104220</td>\n",
       "      <td>0.088799</td>\n",
       "      <td>0.048919</td>\n",
       "      <td>0.181032</td>\n",
       "      <td>...</td>\n",
       "      <td>16.275134</td>\n",
       "      <td>25.629170</td>\n",
       "      <td>107.235326</td>\n",
       "      <td>879.487986</td>\n",
       "      <td>0.132369</td>\n",
       "      <td>0.254019</td>\n",
       "      <td>0.272220</td>\n",
       "      <td>0.114233</td>\n",
       "      <td>0.289828</td>\n",
       "      <td>0.083974</td>\n",
       "    </tr>\n",
       "    <tr>\n",
       "      <th>std</th>\n",
       "      <td>1.251247e+08</td>\n",
       "      <td>3.528840</td>\n",
       "      <td>4.299856</td>\n",
       "      <td>24.322495</td>\n",
       "      <td>352.102951</td>\n",
       "      <td>0.014074</td>\n",
       "      <td>0.052820</td>\n",
       "      <td>0.079720</td>\n",
       "      <td>0.038803</td>\n",
       "      <td>0.027410</td>\n",
       "      <td>...</td>\n",
       "      <td>4.847944</td>\n",
       "      <td>6.115881</td>\n",
       "      <td>33.609513</td>\n",
       "      <td>569.722315</td>\n",
       "      <td>0.022832</td>\n",
       "      <td>0.157306</td>\n",
       "      <td>0.208649</td>\n",
       "      <td>0.065489</td>\n",
       "      <td>0.061686</td>\n",
       "      <td>0.018101</td>\n",
       "    </tr>\n",
       "    <tr>\n",
       "      <th>min</th>\n",
       "      <td>8.670000e+03</td>\n",
       "      <td>6.981000</td>\n",
       "      <td>9.710000</td>\n",
       "      <td>43.790000</td>\n",
       "      <td>143.500000</td>\n",
       "      <td>0.052630</td>\n",
       "      <td>0.019380</td>\n",
       "      <td>0.000000</td>\n",
       "      <td>0.000000</td>\n",
       "      <td>0.106000</td>\n",
       "      <td>...</td>\n",
       "      <td>7.930000</td>\n",
       "      <td>12.020000</td>\n",
       "      <td>50.410000</td>\n",
       "      <td>185.200000</td>\n",
       "      <td>0.071170</td>\n",
       "      <td>0.027290</td>\n",
       "      <td>0.000000</td>\n",
       "      <td>0.000000</td>\n",
       "      <td>0.156500</td>\n",
       "      <td>0.055040</td>\n",
       "    </tr>\n",
       "    <tr>\n",
       "      <th>25%</th>\n",
       "      <td>8.691895e+05</td>\n",
       "      <td>11.702500</td>\n",
       "      <td>16.170000</td>\n",
       "      <td>75.190000</td>\n",
       "      <td>420.300000</td>\n",
       "      <td>0.086390</td>\n",
       "      <td>0.064605</td>\n",
       "      <td>0.029560</td>\n",
       "      <td>0.020310</td>\n",
       "      <td>0.161900</td>\n",
       "      <td>...</td>\n",
       "      <td>13.030000</td>\n",
       "      <td>21.065000</td>\n",
       "      <td>84.135000</td>\n",
       "      <td>515.425000</td>\n",
       "      <td>0.116600</td>\n",
       "      <td>0.147200</td>\n",
       "      <td>0.115450</td>\n",
       "      <td>0.064330</td>\n",
       "      <td>0.250250</td>\n",
       "      <td>0.071460</td>\n",
       "    </tr>\n",
       "    <tr>\n",
       "      <th>50%</th>\n",
       "      <td>9.060010e+05</td>\n",
       "      <td>13.375000</td>\n",
       "      <td>18.835000</td>\n",
       "      <td>86.240000</td>\n",
       "      <td>548.750000</td>\n",
       "      <td>0.095870</td>\n",
       "      <td>0.092525</td>\n",
       "      <td>0.061540</td>\n",
       "      <td>0.033500</td>\n",
       "      <td>0.179150</td>\n",
       "      <td>...</td>\n",
       "      <td>14.970000</td>\n",
       "      <td>25.370000</td>\n",
       "      <td>97.660000</td>\n",
       "      <td>685.550000</td>\n",
       "      <td>0.131300</td>\n",
       "      <td>0.211900</td>\n",
       "      <td>0.226700</td>\n",
       "      <td>0.099840</td>\n",
       "      <td>0.282050</td>\n",
       "      <td>0.080040</td>\n",
       "    </tr>\n",
       "    <tr>\n",
       "      <th>75%</th>\n",
       "      <td>8.825022e+06</td>\n",
       "      <td>15.772500</td>\n",
       "      <td>21.785000</td>\n",
       "      <td>104.200000</td>\n",
       "      <td>782.675000</td>\n",
       "      <td>0.105350</td>\n",
       "      <td>0.130375</td>\n",
       "      <td>0.130700</td>\n",
       "      <td>0.074000</td>\n",
       "      <td>0.195550</td>\n",
       "      <td>...</td>\n",
       "      <td>18.655000</td>\n",
       "      <td>29.497500</td>\n",
       "      <td>125.250000</td>\n",
       "      <td>1065.000000</td>\n",
       "      <td>0.146000</td>\n",
       "      <td>0.337100</td>\n",
       "      <td>0.381900</td>\n",
       "      <td>0.161300</td>\n",
       "      <td>0.317825</td>\n",
       "      <td>0.092080</td>\n",
       "    </tr>\n",
       "    <tr>\n",
       "      <th>max</th>\n",
       "      <td>9.113205e+08</td>\n",
       "      <td>28.110000</td>\n",
       "      <td>39.280000</td>\n",
       "      <td>188.500000</td>\n",
       "      <td>2501.000000</td>\n",
       "      <td>0.163400</td>\n",
       "      <td>0.345400</td>\n",
       "      <td>0.426800</td>\n",
       "      <td>0.201200</td>\n",
       "      <td>0.304000</td>\n",
       "      <td>...</td>\n",
       "      <td>36.040000</td>\n",
       "      <td>49.540000</td>\n",
       "      <td>251.200000</td>\n",
       "      <td>4254.000000</td>\n",
       "      <td>0.222600</td>\n",
       "      <td>1.058000</td>\n",
       "      <td>1.252000</td>\n",
       "      <td>0.291000</td>\n",
       "      <td>0.663800</td>\n",
       "      <td>0.207500</td>\n",
       "    </tr>\n",
       "  </tbody>\n",
       "</table>\n",
       "<p>8 rows × 31 columns</p>\n",
       "</div>"
      ],
      "text/plain": [
       "                 ID  Radius (Mean)  Texture (Mean)  Perimeter (Mean)  \\\n",
       "count  5.680000e+02     550.000000      568.000000        567.000000   \n",
       "mean   3.042370e+07      14.123118       19.280986         92.010459   \n",
       "std    1.251247e+08       3.528840        4.299856         24.322495   \n",
       "min    8.670000e+03       6.981000        9.710000         43.790000   \n",
       "25%    8.691895e+05      11.702500       16.170000         75.190000   \n",
       "50%    9.060010e+05      13.375000       18.835000         86.240000   \n",
       "75%    8.825022e+06      15.772500       21.785000        104.200000   \n",
       "max    9.113205e+08      28.110000       39.280000        188.500000   \n",
       "\n",
       "       Area (Mean)  Smoothness (Mean)  Compactness (Mean)  Concavity (Mean)  \\\n",
       "count   566.000000         567.000000          566.000000        569.000000   \n",
       "mean    654.704064           0.096376            0.104220          0.088799   \n",
       "std     352.102951           0.014074            0.052820          0.079720   \n",
       "min     143.500000           0.052630            0.019380          0.000000   \n",
       "25%     420.300000           0.086390            0.064605          0.029560   \n",
       "50%     548.750000           0.095870            0.092525          0.061540   \n",
       "75%     782.675000           0.105350            0.130375          0.130700   \n",
       "max    2501.000000           0.163400            0.345400          0.426800   \n",
       "\n",
       "       Concave Points (Mean)  Symmetry (Mean)  ...  Radius (Worst)  \\\n",
       "count             569.000000       566.000000  ...      551.000000   \n",
       "mean                0.048919         0.181032  ...       16.275134   \n",
       "std                 0.038803         0.027410  ...        4.847944   \n",
       "min                 0.000000         0.106000  ...        7.930000   \n",
       "25%                 0.020310         0.161900  ...       13.030000   \n",
       "50%                 0.033500         0.179150  ...       14.970000   \n",
       "75%                 0.074000         0.195550  ...       18.655000   \n",
       "max                 0.201200         0.304000  ...       36.040000   \n",
       "\n",
       "       Texture (Worst)  Perimeter (Worst)  Area (Worst)  Smoothness (Worst)  \\\n",
       "count       566.000000         567.000000    566.000000          569.000000   \n",
       "mean         25.629170         107.235326    879.487986            0.132369   \n",
       "std           6.115881          33.609513    569.722315            0.022832   \n",
       "min          12.020000          50.410000    185.200000            0.071170   \n",
       "25%          21.065000          84.135000    515.425000            0.116600   \n",
       "50%          25.370000          97.660000    685.550000            0.131300   \n",
       "75%          29.497500         125.250000   1065.000000            0.146000   \n",
       "max          49.540000         251.200000   4254.000000            0.222600   \n",
       "\n",
       "       Compactness (Worst)  Concavity (Worst)  Concave Points (Worst)  \\\n",
       "count           565.000000         567.000000              566.000000   \n",
       "mean              0.254019           0.272220                0.114233   \n",
       "std               0.157306           0.208649                0.065489   \n",
       "min               0.027290           0.000000                0.000000   \n",
       "25%               0.147200           0.115450                0.064330   \n",
       "50%               0.211900           0.226700                0.099840   \n",
       "75%               0.337100           0.381900                0.161300   \n",
       "max               1.058000           1.252000                0.291000   \n",
       "\n",
       "       Symmetry (Worst)  Fractal Dimension (Worst)  \n",
       "count        566.000000                 565.000000  \n",
       "mean           0.289828                   0.083974  \n",
       "std            0.061686                   0.018101  \n",
       "min            0.156500                   0.055040  \n",
       "25%            0.250250                   0.071460  \n",
       "50%            0.282050                   0.080040  \n",
       "75%            0.317825                   0.092080  \n",
       "max            0.663800                   0.207500  \n",
       "\n",
       "[8 rows x 31 columns]"
      ]
     },
     "execution_count": 2,
     "metadata": {},
     "output_type": "execute_result"
    }
   ],
   "source": [
    "# TODO: your own data cleaning, e.g., dealing with the missing values and converting the feature column (to numeric)\n",
    "\n",
    "df.describe()\n"
   ]
  },
  {
   "cell_type": "markdown",
   "metadata": {},
   "source": [
    "### Convert "
   ]
  },
  {
   "cell_type": "code",
   "execution_count": 3,
   "metadata": {
    "ExecuteTime": {
     "end_time": "2021-01-15T12:11:51.091086Z",
     "start_time": "2021-01-15T12:11:51.067098Z"
    }
   },
   "outputs": [
    {
     "data": {
      "text/html": [
       "<div>\n",
       "<style scoped>\n",
       "    .dataframe tbody tr th:only-of-type {\n",
       "        vertical-align: middle;\n",
       "    }\n",
       "\n",
       "    .dataframe tbody tr th {\n",
       "        vertical-align: top;\n",
       "    }\n",
       "\n",
       "    .dataframe thead th {\n",
       "        text-align: right;\n",
       "    }\n",
       "</style>\n",
       "<table border=\"1\" class=\"dataframe\">\n",
       "  <thead>\n",
       "    <tr style=\"text-align: right;\">\n",
       "      <th></th>\n",
       "      <th>ID</th>\n",
       "      <th>Radius (Mean)</th>\n",
       "      <th>Texture (Mean)</th>\n",
       "      <th>Perimeter (Mean)</th>\n",
       "      <th>Area (Mean)</th>\n",
       "      <th>Smoothness (Mean)</th>\n",
       "      <th>Compactness (Mean)</th>\n",
       "      <th>Concavity (Mean)</th>\n",
       "      <th>Concave Points (Mean)</th>\n",
       "      <th>Symmetry (Mean)</th>\n",
       "      <th>...</th>\n",
       "      <th>Texture (Worst)</th>\n",
       "      <th>Perimeter (Worst)</th>\n",
       "      <th>Area (Worst)</th>\n",
       "      <th>Smoothness (Worst)</th>\n",
       "      <th>Compactness (Worst)</th>\n",
       "      <th>Concavity (Worst)</th>\n",
       "      <th>Concave Points (Worst)</th>\n",
       "      <th>Symmetry (Worst)</th>\n",
       "      <th>Fractal Dimension (Worst)</th>\n",
       "      <th>Diagnosis</th>\n",
       "    </tr>\n",
       "  </thead>\n",
       "  <tbody>\n",
       "    <tr>\n",
       "      <th>0</th>\n",
       "      <td>842302.0</td>\n",
       "      <td>17.99</td>\n",
       "      <td>10.38</td>\n",
       "      <td>122.80</td>\n",
       "      <td>1001.0</td>\n",
       "      <td>0.11840</td>\n",
       "      <td>0.27760</td>\n",
       "      <td>0.3001</td>\n",
       "      <td>0.14710</td>\n",
       "      <td>0.2419</td>\n",
       "      <td>...</td>\n",
       "      <td>17.33</td>\n",
       "      <td>184.60</td>\n",
       "      <td>2019.0</td>\n",
       "      <td>0.1622</td>\n",
       "      <td>0.6656</td>\n",
       "      <td>0.7119</td>\n",
       "      <td>NaN</td>\n",
       "      <td>0.4601</td>\n",
       "      <td>0.11890</td>\n",
       "      <td>1</td>\n",
       "    </tr>\n",
       "    <tr>\n",
       "      <th>1</th>\n",
       "      <td>842517.0</td>\n",
       "      <td>20.57</td>\n",
       "      <td>17.77</td>\n",
       "      <td>132.90</td>\n",
       "      <td>1326.0</td>\n",
       "      <td>0.08474</td>\n",
       "      <td>0.07864</td>\n",
       "      <td>0.0869</td>\n",
       "      <td>0.07017</td>\n",
       "      <td>0.1812</td>\n",
       "      <td>...</td>\n",
       "      <td>23.41</td>\n",
       "      <td>158.80</td>\n",
       "      <td>1956.0</td>\n",
       "      <td>0.1238</td>\n",
       "      <td>0.1866</td>\n",
       "      <td>0.2416</td>\n",
       "      <td>0.1860</td>\n",
       "      <td>0.2750</td>\n",
       "      <td>0.08902</td>\n",
       "      <td>1</td>\n",
       "    </tr>\n",
       "    <tr>\n",
       "      <th>2</th>\n",
       "      <td>84300903.0</td>\n",
       "      <td>19.69</td>\n",
       "      <td>21.25</td>\n",
       "      <td>130.00</td>\n",
       "      <td>1203.0</td>\n",
       "      <td>0.10960</td>\n",
       "      <td>0.15990</td>\n",
       "      <td>0.1974</td>\n",
       "      <td>0.12790</td>\n",
       "      <td>0.2069</td>\n",
       "      <td>...</td>\n",
       "      <td>25.53</td>\n",
       "      <td>152.50</td>\n",
       "      <td>1709.0</td>\n",
       "      <td>0.1444</td>\n",
       "      <td>0.4245</td>\n",
       "      <td>0.4504</td>\n",
       "      <td>0.2430</td>\n",
       "      <td>0.3613</td>\n",
       "      <td>0.08758</td>\n",
       "      <td>1</td>\n",
       "    </tr>\n",
       "    <tr>\n",
       "      <th>3</th>\n",
       "      <td>84348301.0</td>\n",
       "      <td>11.42</td>\n",
       "      <td>20.38</td>\n",
       "      <td>77.58</td>\n",
       "      <td>386.1</td>\n",
       "      <td>0.14250</td>\n",
       "      <td>0.28390</td>\n",
       "      <td>0.2414</td>\n",
       "      <td>0.10520</td>\n",
       "      <td>0.2597</td>\n",
       "      <td>...</td>\n",
       "      <td>26.50</td>\n",
       "      <td>98.87</td>\n",
       "      <td>567.7</td>\n",
       "      <td>0.2098</td>\n",
       "      <td>0.8663</td>\n",
       "      <td>0.6869</td>\n",
       "      <td>0.2575</td>\n",
       "      <td>0.6638</td>\n",
       "      <td>0.17300</td>\n",
       "      <td>1</td>\n",
       "    </tr>\n",
       "    <tr>\n",
       "      <th>4</th>\n",
       "      <td>84358402.0</td>\n",
       "      <td>20.29</td>\n",
       "      <td>14.34</td>\n",
       "      <td>135.10</td>\n",
       "      <td>1297.0</td>\n",
       "      <td>0.10030</td>\n",
       "      <td>0.13280</td>\n",
       "      <td>0.1980</td>\n",
       "      <td>0.10430</td>\n",
       "      <td>0.1809</td>\n",
       "      <td>...</td>\n",
       "      <td>16.67</td>\n",
       "      <td>152.20</td>\n",
       "      <td>1575.0</td>\n",
       "      <td>0.1374</td>\n",
       "      <td>0.2050</td>\n",
       "      <td>0.4000</td>\n",
       "      <td>0.1625</td>\n",
       "      <td>0.2364</td>\n",
       "      <td>0.07678</td>\n",
       "      <td>1</td>\n",
       "    </tr>\n",
       "  </tbody>\n",
       "</table>\n",
       "<p>5 rows × 32 columns</p>\n",
       "</div>"
      ],
      "text/plain": [
       "           ID  Radius (Mean)  Texture (Mean)  Perimeter (Mean)  Area (Mean)  \\\n",
       "0    842302.0          17.99           10.38            122.80       1001.0   \n",
       "1    842517.0          20.57           17.77            132.90       1326.0   \n",
       "2  84300903.0          19.69           21.25            130.00       1203.0   \n",
       "3  84348301.0          11.42           20.38             77.58        386.1   \n",
       "4  84358402.0          20.29           14.34            135.10       1297.0   \n",
       "\n",
       "   Smoothness (Mean)  Compactness (Mean)  Concavity (Mean)  \\\n",
       "0            0.11840             0.27760            0.3001   \n",
       "1            0.08474             0.07864            0.0869   \n",
       "2            0.10960             0.15990            0.1974   \n",
       "3            0.14250             0.28390            0.2414   \n",
       "4            0.10030             0.13280            0.1980   \n",
       "\n",
       "   Concave Points (Mean)  Symmetry (Mean)  ...  Texture (Worst)  \\\n",
       "0                0.14710           0.2419  ...            17.33   \n",
       "1                0.07017           0.1812  ...            23.41   \n",
       "2                0.12790           0.2069  ...            25.53   \n",
       "3                0.10520           0.2597  ...            26.50   \n",
       "4                0.10430           0.1809  ...            16.67   \n",
       "\n",
       "   Perimeter (Worst)  Area (Worst)  Smoothness (Worst)  Compactness (Worst)  \\\n",
       "0             184.60        2019.0              0.1622               0.6656   \n",
       "1             158.80        1956.0              0.1238               0.1866   \n",
       "2             152.50        1709.0              0.1444               0.4245   \n",
       "3              98.87         567.7              0.2098               0.8663   \n",
       "4             152.20        1575.0              0.1374               0.2050   \n",
       "\n",
       "   Concavity (Worst)  Concave Points (Worst)  Symmetry (Worst)  \\\n",
       "0             0.7119                     NaN            0.4601   \n",
       "1             0.2416                  0.1860            0.2750   \n",
       "2             0.4504                  0.2430            0.3613   \n",
       "3             0.6869                  0.2575            0.6638   \n",
       "4             0.4000                  0.1625            0.2364   \n",
       "\n",
       "   Fractal Dimension (Worst)  Diagnosis  \n",
       "0                    0.11890          1  \n",
       "1                    0.08902          1  \n",
       "2                    0.08758          1  \n",
       "3                    0.17300          1  \n",
       "4                    0.07678          1  \n",
       "\n",
       "[5 rows x 32 columns]"
      ]
     },
     "execution_count": 3,
     "metadata": {},
     "output_type": "execute_result"
    }
   ],
   "source": [
    "df['Diagnosis'] = df['Diagnosis'].replace('M', 1)\n",
    "df['Diagnosis'] = df['Diagnosis'].replace('B', 0)\n",
    "df.head()"
   ]
  },
  {
   "cell_type": "markdown",
   "metadata": {},
   "source": [
    "### Class Distribution"
   ]
  },
  {
   "cell_type": "code",
   "execution_count": 4,
   "metadata": {
    "ExecuteTime": {
     "end_time": "2021-01-15T12:11:51.119060Z",
     "start_time": "2021-01-15T12:11:51.093091Z"
    }
   },
   "outputs": [
    {
     "name": "stdout",
     "output_type": "stream",
     "text": [
      "0    358\n",
      "1    211\n",
      "Name: Diagnosis, dtype: int64\n"
     ]
    }
   ],
   "source": [
    "print(df['Diagnosis'].value_counts())"
   ]
  },
  {
   "cell_type": "code",
   "execution_count": 5,
   "metadata": {
    "ExecuteTime": {
     "end_time": "2021-01-15T12:11:51.991461Z",
     "start_time": "2021-01-15T12:11:51.120060Z"
    }
   },
   "outputs": [
    {
     "data": {
      "text/plain": [
       "([<matplotlib.axis.XTick at 0x257c20462b0>,\n",
       "  <matplotlib.axis.XTick at 0x257c2046280>],\n",
       " [Text(0, 0, 'Benign'), Text(0, 0, 'Malignant')])"
      ]
     },
     "execution_count": 5,
     "metadata": {},
     "output_type": "execute_result"
    },
    {
     "data": {
      "image/png": "[encoded data removed]",
      "text/plain": [
       "<Figure size 576x360 with 1 Axes>"
      ]
     },
     "metadata": {
      "needs_background": "light"
     },
     "output_type": "display_data"
    }
   ],
   "source": [
    "plt.rcParams.update({'font.size': 12, 'figure.figsize': (8, 5)})\n",
    "plt.ylabel('Frequency')\n",
    "df['Diagnosis'].value_counts().plot(kind=\"bar\", title='Diagnosis');\n",
    "positions = (0, 1)\n",
    "labels = (\"Benign\", \"Malignant\")\n",
    "plt.xticks(positions, labels)"
   ]
  },
  {
   "cell_type": "markdown",
   "metadata": {},
   "source": [
    "### Missing Values"
   ]
  },
  {
   "cell_type": "markdown",
   "metadata": {},
   "source": [
    "#### Dropping ID"
   ]
  },
  {
   "cell_type": "code",
   "execution_count": 6,
   "metadata": {
    "ExecuteTime": {
     "end_time": "2021-01-15T12:11:52.002445Z",
     "start_time": "2021-01-15T12:11:51.994460Z"
    }
   },
   "outputs": [],
   "source": [
    "df = df.drop('ID', 1)\n",
    "\n",
    "df = df.replace(' ', np.nan)\n",
    "df = df.replace('', np.nan)"
   ]
  },
  {
   "cell_type": "markdown",
   "metadata": {},
   "source": [
    "#### Number of missing values"
   ]
  },
  {
   "cell_type": "code",
   "execution_count": 7,
   "metadata": {
    "ExecuteTime": {
     "end_time": "2021-01-15T12:11:52.437213Z",
     "start_time": "2021-01-15T12:11:52.003444Z"
    }
   },
   "outputs": [
    {
     "data": {
      "image/png": "[encoded data removed]",
      "text/plain": [
       "<Figure size 648x432 with 1 Axes>"
      ]
     },
     "metadata": {
      "needs_background": "light"
     },
     "output_type": "display_data"
    }
   ],
   "source": [
    "df_isnull = df.isnull().sum()\n",
    "plt.rcParams.update({'font.size': 12, 'figure.figsize': (9, 6)})\n",
    "plt.yticks(range(0, 20))\n",
    "plt.ylabel('Missing values')\n",
    "df_isnull.plot(kind=\"bar\", title='Features with missing values');"
   ]
  },
  {
   "cell_type": "code",
   "execution_count": 8,
   "metadata": {
    "ExecuteTime": {
     "end_time": "2021-01-15T12:11:52.460200Z",
     "start_time": "2021-01-15T12:11:52.438224Z"
    }
   },
   "outputs": [
    {
     "data": {
      "text/html": [
       "<div>\n",
       "<style scoped>\n",
       "    .dataframe tbody tr th:only-of-type {\n",
       "        vertical-align: middle;\n",
       "    }\n",
       "\n",
       "    .dataframe tbody tr th {\n",
       "        vertical-align: top;\n",
       "    }\n",
       "\n",
       "    .dataframe thead th {\n",
       "        text-align: right;\n",
       "    }\n",
       "</style>\n",
       "<table border=\"1\" class=\"dataframe\">\n",
       "  <thead>\n",
       "    <tr style=\"text-align: right;\">\n",
       "      <th></th>\n",
       "      <th>Radius (Mean)</th>\n",
       "      <th>Texture (Mean)</th>\n",
       "      <th>Perimeter (Mean)</th>\n",
       "      <th>Area (Mean)</th>\n",
       "      <th>Smoothness (Mean)</th>\n",
       "      <th>Compactness (Mean)</th>\n",
       "      <th>Concavity (Mean)</th>\n",
       "      <th>Concave Points (Mean)</th>\n",
       "      <th>Symmetry (Mean)</th>\n",
       "      <th>Fractal Dimension (Mean)</th>\n",
       "      <th>...</th>\n",
       "      <th>Texture (Worst)</th>\n",
       "      <th>Perimeter (Worst)</th>\n",
       "      <th>Area (Worst)</th>\n",
       "      <th>Smoothness (Worst)</th>\n",
       "      <th>Compactness (Worst)</th>\n",
       "      <th>Concavity (Worst)</th>\n",
       "      <th>Concave Points (Worst)</th>\n",
       "      <th>Symmetry (Worst)</th>\n",
       "      <th>Fractal Dimension (Worst)</th>\n",
       "      <th>Diagnosis</th>\n",
       "    </tr>\n",
       "  </thead>\n",
       "  <tbody>\n",
       "    <tr>\n",
       "      <th>0</th>\n",
       "      <td>17.99</td>\n",
       "      <td>10.38</td>\n",
       "      <td>122.80</td>\n",
       "      <td>1001.0</td>\n",
       "      <td>0.11840</td>\n",
       "      <td>0.27760</td>\n",
       "      <td>0.30010</td>\n",
       "      <td>0.14710</td>\n",
       "      <td>0.2419</td>\n",
       "      <td>0.07871</td>\n",
       "      <td>...</td>\n",
       "      <td>17.33</td>\n",
       "      <td>184.60</td>\n",
       "      <td>2019.0</td>\n",
       "      <td>0.1622</td>\n",
       "      <td>0.6656</td>\n",
       "      <td>0.71190</td>\n",
       "      <td>NaN</td>\n",
       "      <td>0.4601</td>\n",
       "      <td>0.11890</td>\n",
       "      <td>1</td>\n",
       "    </tr>\n",
       "    <tr>\n",
       "      <th>10</th>\n",
       "      <td>NaN</td>\n",
       "      <td>23.24</td>\n",
       "      <td>102.70</td>\n",
       "      <td>797.8</td>\n",
       "      <td>0.08206</td>\n",
       "      <td>0.06669</td>\n",
       "      <td>0.03299</td>\n",
       "      <td>0.03323</td>\n",
       "      <td>0.1528</td>\n",
       "      <td>0.05697</td>\n",
       "      <td>...</td>\n",
       "      <td>33.88</td>\n",
       "      <td>123.80</td>\n",
       "      <td>1150.0</td>\n",
       "      <td>0.1181</td>\n",
       "      <td>0.1551</td>\n",
       "      <td>0.14590</td>\n",
       "      <td>0.09975</td>\n",
       "      <td>0.2948</td>\n",
       "      <td>0.08452</td>\n",
       "      <td>1</td>\n",
       "    </tr>\n",
       "    <tr>\n",
       "      <th>21</th>\n",
       "      <td>NaN</td>\n",
       "      <td>12.44</td>\n",
       "      <td>60.34</td>\n",
       "      <td>273.9</td>\n",
       "      <td>0.10240</td>\n",
       "      <td>0.06492</td>\n",
       "      <td>0.02956</td>\n",
       "      <td>0.02076</td>\n",
       "      <td>0.1815</td>\n",
       "      <td>0.06905</td>\n",
       "      <td>...</td>\n",
       "      <td>15.66</td>\n",
       "      <td>65.13</td>\n",
       "      <td>314.9</td>\n",
       "      <td>0.1324</td>\n",
       "      <td>0.1148</td>\n",
       "      <td>0.08867</td>\n",
       "      <td>0.06227</td>\n",
       "      <td>0.2450</td>\n",
       "      <td>0.07773</td>\n",
       "      <td>0</td>\n",
       "    </tr>\n",
       "    <tr>\n",
       "      <th>27</th>\n",
       "      <td>NaN</td>\n",
       "      <td>20.25</td>\n",
       "      <td>122.10</td>\n",
       "      <td>1094.0</td>\n",
       "      <td>0.09440</td>\n",
       "      <td>0.10660</td>\n",
       "      <td>0.14900</td>\n",
       "      <td>0.07731</td>\n",
       "      <td>0.1697</td>\n",
       "      <td>0.05699</td>\n",
       "      <td>...</td>\n",
       "      <td>27.26</td>\n",
       "      <td>139.90</td>\n",
       "      <td>1403.0</td>\n",
       "      <td>0.1338</td>\n",
       "      <td>0.2117</td>\n",
       "      <td>0.34460</td>\n",
       "      <td>0.14900</td>\n",
       "      <td>0.2341</td>\n",
       "      <td>0.07421</td>\n",
       "      <td>1</td>\n",
       "    </tr>\n",
       "    <tr>\n",
       "      <th>44</th>\n",
       "      <td>NaN</td>\n",
       "      <td>21.81</td>\n",
       "      <td>85.42</td>\n",
       "      <td>531.5</td>\n",
       "      <td>0.09714</td>\n",
       "      <td>0.10470</td>\n",
       "      <td>0.08259</td>\n",
       "      <td>0.05252</td>\n",
       "      <td>0.1746</td>\n",
       "      <td>0.06177</td>\n",
       "      <td>...</td>\n",
       "      <td>29.89</td>\n",
       "      <td>105.50</td>\n",
       "      <td>740.7</td>\n",
       "      <td>0.1503</td>\n",
       "      <td>0.3904</td>\n",
       "      <td>0.37280</td>\n",
       "      <td>0.16070</td>\n",
       "      <td>0.3693</td>\n",
       "      <td>0.09618</td>\n",
       "      <td>1</td>\n",
       "    </tr>\n",
       "  </tbody>\n",
       "</table>\n",
       "<p>5 rows × 31 columns</p>\n",
       "</div>"
      ],
      "text/plain": [
       "    Radius (Mean)  Texture (Mean)  Perimeter (Mean)  Area (Mean)  \\\n",
       "0           17.99           10.38            122.80       1001.0   \n",
       "10            NaN           23.24            102.70        797.8   \n",
       "21            NaN           12.44             60.34        273.9   \n",
       "27            NaN           20.25            122.10       1094.0   \n",
       "44            NaN           21.81             85.42        531.5   \n",
       "\n",
       "    Smoothness (Mean)  Compactness (Mean)  Concavity (Mean)  \\\n",
       "0             0.11840             0.27760           0.30010   \n",
       "10            0.08206             0.06669           0.03299   \n",
       "21            0.10240             0.06492           0.02956   \n",
       "27            0.09440             0.10660           0.14900   \n",
       "44            0.09714             0.10470           0.08259   \n",
       "\n",
       "    Concave Points (Mean)  Symmetry (Mean)  Fractal Dimension (Mean)  ...  \\\n",
       "0                 0.14710           0.2419                   0.07871  ...   \n",
       "10                0.03323           0.1528                   0.05697  ...   \n",
       "21                0.02076           0.1815                   0.06905  ...   \n",
       "27                0.07731           0.1697                   0.05699  ...   \n",
       "44                0.05252           0.1746                   0.06177  ...   \n",
       "\n",
       "    Texture (Worst)  Perimeter (Worst)  Area (Worst)  Smoothness (Worst)  \\\n",
       "0             17.33             184.60        2019.0              0.1622   \n",
       "10            33.88             123.80        1150.0              0.1181   \n",
       "21            15.66              65.13         314.9              0.1324   \n",
       "27            27.26             139.90        1403.0              0.1338   \n",
       "44            29.89             105.50         740.7              0.1503   \n",
       "\n",
       "    Compactness (Worst)  Concavity (Worst)  Concave Points (Worst)  \\\n",
       "0                0.6656            0.71190                     NaN   \n",
       "10               0.1551            0.14590                 0.09975   \n",
       "21               0.1148            0.08867                 0.06227   \n",
       "27               0.2117            0.34460                 0.14900   \n",
       "44               0.3904            0.37280                 0.16070   \n",
       "\n",
       "    Symmetry (Worst)  Fractal Dimension (Worst)  Diagnosis  \n",
       "0             0.4601                    0.11890          1  \n",
       "10            0.2948                    0.08452          1  \n",
       "21            0.2450                    0.07773          0  \n",
       "27            0.2341                    0.07421          1  \n",
       "44            0.3693                    0.09618          1  \n",
       "\n",
       "[5 rows x 31 columns]"
      ]
     },
     "execution_count": 8,
     "metadata": {},
     "output_type": "execute_result"
    }
   ],
   "source": [
    "null_data = df[df.isnull().any(axis=1)]\n",
    "null_data.head()"
   ]
  },
  {
   "cell_type": "code",
   "execution_count": 9,
   "metadata": {
    "ExecuteTime": {
     "end_time": "2021-01-15T12:11:52.506173Z",
     "start_time": "2021-01-15T12:11:52.461184Z"
    }
   },
   "outputs": [
    {
     "name": "stdout",
     "output_type": "stream",
     "text": [
      "0       1\n",
      "10      3\n",
      "21      3\n",
      "27      3\n",
      "44      3\n",
      "67      3\n",
      "70      1\n",
      "90      3\n",
      "130     3\n",
      "203    18\n",
      "226     3\n",
      "249     1\n",
      "256     3\n",
      "267     3\n",
      "302     3\n",
      "349     3\n",
      "367     1\n",
      "397     3\n",
      "433    19\n",
      "451     3\n",
      "467     1\n",
      "498     1\n",
      "507     3\n",
      "549    19\n",
      "552     3\n",
      "dtype: int64\n"
     ]
    }
   ],
   "source": [
    "null_count = (null_data.isnull()).sum(axis=1)\n",
    "print(null_count)"
   ]
  },
  {
   "cell_type": "code",
   "execution_count": 10,
   "metadata": {
    "ExecuteTime": {
     "end_time": "2021-01-15T12:11:52.755014Z",
     "start_time": "2021-01-15T12:11:52.507157Z"
    }
   },
   "outputs": [
    {
     "data": {
      "image/png": "[encoded data removed]",
      "text/plain": [
       "<Figure size 576x648 with 1 Axes>"
      ]
     },
     "metadata": {
      "needs_background": "light"
     },
     "output_type": "display_data"
    }
   ],
   "source": [
    "null_count = (null_data.isnull()).sum(axis=1)\n",
    "\n",
    "plt.rcParams.update({'font.size': 12, 'figure.figsize': (8, 9)})\n",
    "plt.xticks(range(0, 20))\n",
    "plt.ylabel('Instance Number')\n",
    "plt.xlabel('Missing Values')\n",
    "null_count.plot(kind=\"barh\", title='Instances with missing values');\n",
    "plt.gca().invert_yaxis()"
   ]
  },
  {
   "cell_type": "markdown",
   "metadata": {},
   "source": [
    "#### Zero values"
   ]
  },
  {
   "cell_type": "code",
   "execution_count": 11,
   "metadata": {
    "ExecuteTime": {
     "end_time": "2021-01-15T12:11:52.972916Z",
     "start_time": "2021-01-15T12:11:52.756014Z"
    }
   },
   "outputs": [
    {
     "name": "stdout",
     "output_type": "stream",
     "text": [
      "Radius (Mean)                  0\n",
      "Texture (Mean)                 0\n",
      "Perimeter (Mean)               0\n",
      "Area (Mean)                    0\n",
      "Smoothness (Mean)              0\n",
      "Compactness (Mean)             0\n",
      "Concavity (Mean)              13\n",
      "Concave Points (Mean)         13\n",
      "Symmetry (Mean)                0\n",
      "Fractal Dimension (Mean)       0\n",
      "Radius (Error)                 0\n",
      "Texture (Error)                0\n",
      "Perimeter (Error)              0\n",
      "Area (Error)                   0\n",
      "Smoothness (Error)             0\n",
      "Compactness (Error)            0\n",
      "Concavity (Error)             13\n",
      "Concave Points (Error)        13\n",
      "Symmetry (Error)               0\n",
      "Fractal Dimension (Error)      0\n",
      "Radius (Worst)                 0\n",
      "Texture (Worst)                0\n",
      "Perimeter (Worst)              0\n",
      "Area (Worst)                   0\n",
      "Smoothness (Worst)             0\n",
      "Compactness (Worst)            0\n",
      "Concavity (Worst)             13\n",
      "Concave Points (Worst)        13\n",
      "Symmetry (Worst)               0\n",
      "Fractal Dimension (Worst)      0\n",
      "Diagnosis                    358\n",
      "dtype: int64\n"
     ]
    }
   ],
   "source": [
    "zero_data = df[df == 0].count()\n",
    "print(zero_data)"
   ]
  },
  {
   "cell_type": "markdown",
   "metadata": {},
   "source": [
    "#### Drop all missing values"
   ]
  },
  {
   "cell_type": "code",
   "execution_count": 12,
   "metadata": {
    "ExecuteTime": {
     "end_time": "2021-01-15T12:11:52.996898Z",
     "start_time": "2021-01-15T12:11:52.973910Z"
    }
   },
   "outputs": [
    {
     "data": {
      "text/html": [
       "<div>\n",
       "<style scoped>\n",
       "    .dataframe tbody tr th:only-of-type {\n",
       "        vertical-align: middle;\n",
       "    }\n",
       "\n",
       "    .dataframe tbody tr th {\n",
       "        vertical-align: top;\n",
       "    }\n",
       "\n",
       "    .dataframe thead th {\n",
       "        text-align: right;\n",
       "    }\n",
       "</style>\n",
       "<table border=\"1\" class=\"dataframe\">\n",
       "  <thead>\n",
       "    <tr style=\"text-align: right;\">\n",
       "      <th></th>\n",
       "      <th>Radius (Mean)</th>\n",
       "      <th>Texture (Mean)</th>\n",
       "      <th>Perimeter (Mean)</th>\n",
       "      <th>Area (Mean)</th>\n",
       "      <th>Smoothness (Mean)</th>\n",
       "      <th>Compactness (Mean)</th>\n",
       "      <th>Concavity (Mean)</th>\n",
       "      <th>Concave Points (Mean)</th>\n",
       "      <th>Symmetry (Mean)</th>\n",
       "      <th>Fractal Dimension (Mean)</th>\n",
       "      <th>...</th>\n",
       "      <th>Texture (Worst)</th>\n",
       "      <th>Perimeter (Worst)</th>\n",
       "      <th>Area (Worst)</th>\n",
       "      <th>Smoothness (Worst)</th>\n",
       "      <th>Compactness (Worst)</th>\n",
       "      <th>Concavity (Worst)</th>\n",
       "      <th>Concave Points (Worst)</th>\n",
       "      <th>Symmetry (Worst)</th>\n",
       "      <th>Fractal Dimension (Worst)</th>\n",
       "      <th>Diagnosis</th>\n",
       "    </tr>\n",
       "  </thead>\n",
       "  <tbody>\n",
       "    <tr>\n",
       "      <th>1</th>\n",
       "      <td>20.57</td>\n",
       "      <td>17.77</td>\n",
       "      <td>132.9</td>\n",
       "      <td>1326.0</td>\n",
       "      <td>0.08474</td>\n",
       "      <td>0.07864</td>\n",
       "      <td>0.0869</td>\n",
       "      <td>0.07017</td>\n",
       "      <td>0.1812</td>\n",
       "      <td>0.05667</td>\n",
       "      <td>...</td>\n",
       "      <td>23.41</td>\n",
       "      <td>158.8</td>\n",
       "      <td>1956.0</td>\n",
       "      <td>0.1238</td>\n",
       "      <td>0.1866</td>\n",
       "      <td>0.2416</td>\n",
       "      <td>0.186</td>\n",
       "      <td>0.2750</td>\n",
       "      <td>0.08902</td>\n",
       "      <td>1</td>\n",
       "    </tr>\n",
       "    <tr>\n",
       "      <th>2</th>\n",
       "      <td>19.69</td>\n",
       "      <td>21.25</td>\n",
       "      <td>130.0</td>\n",
       "      <td>1203.0</td>\n",
       "      <td>0.10960</td>\n",
       "      <td>0.15990</td>\n",
       "      <td>0.1974</td>\n",
       "      <td>0.12790</td>\n",
       "      <td>0.2069</td>\n",
       "      <td>0.05999</td>\n",
       "      <td>...</td>\n",
       "      <td>25.53</td>\n",
       "      <td>152.5</td>\n",
       "      <td>1709.0</td>\n",
       "      <td>0.1444</td>\n",
       "      <td>0.4245</td>\n",
       "      <td>0.4504</td>\n",
       "      <td>0.243</td>\n",
       "      <td>0.3613</td>\n",
       "      <td>0.08758</td>\n",
       "      <td>1</td>\n",
       "    </tr>\n",
       "  </tbody>\n",
       "</table>\n",
       "<p>2 rows × 31 columns</p>\n",
       "</div>"
      ],
      "text/plain": [
       "   Radius (Mean)  Texture (Mean)  Perimeter (Mean)  Area (Mean)  \\\n",
       "1          20.57           17.77             132.9       1326.0   \n",
       "2          19.69           21.25             130.0       1203.0   \n",
       "\n",
       "   Smoothness (Mean)  Compactness (Mean)  Concavity (Mean)  \\\n",
       "1            0.08474             0.07864            0.0869   \n",
       "2            0.10960             0.15990            0.1974   \n",
       "\n",
       "   Concave Points (Mean)  Symmetry (Mean)  Fractal Dimension (Mean)  ...  \\\n",
       "1                0.07017           0.1812                   0.05667  ...   \n",
       "2                0.12790           0.2069                   0.05999  ...   \n",
       "\n",
       "   Texture (Worst)  Perimeter (Worst)  Area (Worst)  Smoothness (Worst)  \\\n",
       "1            23.41              158.8        1956.0              0.1238   \n",
       "2            25.53              152.5        1709.0              0.1444   \n",
       "\n",
       "   Compactness (Worst)  Concavity (Worst)  Concave Points (Worst)  \\\n",
       "1               0.1866             0.2416                   0.186   \n",
       "2               0.4245             0.4504                   0.243   \n",
       "\n",
       "   Symmetry (Worst)  Fractal Dimension (Worst)  Diagnosis  \n",
       "1            0.2750                    0.08902          1  \n",
       "2            0.3613                    0.08758          1  \n",
       "\n",
       "[2 rows x 31 columns]"
      ]
     },
     "execution_count": 12,
     "metadata": {},
     "output_type": "execute_result"
    }
   ],
   "source": [
    "df_dropna = df.dropna()\n",
    "df_dropna.head(2)"
   ]
  },
  {
   "cell_type": "markdown",
   "metadata": {},
   "source": [
    "#### Drop instances with a large amount of missing data"
   ]
  },
  {
   "cell_type": "code",
   "execution_count": 13,
   "metadata": {
    "ExecuteTime": {
     "end_time": "2021-01-15T12:11:53.052873Z",
     "start_time": "2021-01-15T12:11:52.997898Z"
    }
   },
   "outputs": [],
   "source": [
    "df = df.drop([203, 433, 549])"
   ]
  },
  {
   "cell_type": "markdown",
   "metadata": {},
   "source": [
    "#### Impute values with K-NN"
   ]
  },
  {
   "cell_type": "code",
   "execution_count": 14,
   "metadata": {
    "ExecuteTime": {
     "end_time": "2021-01-15T12:11:53.415674Z",
     "start_time": "2021-01-15T12:11:53.053864Z"
    }
   },
   "outputs": [
    {
     "data": {
      "image/png": "[encoded data removed]",
      "text/plain": [
       "<Figure size 648x432 with 1 Axes>"
      ]
     },
     "metadata": {
      "needs_background": "light"
     },
     "output_type": "display_data"
    }
   ],
   "source": [
    "imputer = KNNImputer(n_neighbors=5)\n",
    "df_knn = pd.DataFrame(imputer.fit_transform(df),columns = df.columns)\n",
    "\n",
    "df_isnull = df_knn.isnull().sum()\n",
    "plt.rcParams.update({'font.size': 12, 'figure.figsize': (9, 6)})\n",
    "plt.yticks(range(0, 20))\n",
    "plt.ylabel('Missing values')\n",
    "df_isnull.plot(kind=\"bar\", title='Features with missing values');"
   ]
  },
  {
   "cell_type": "markdown",
   "metadata": {},
   "source": [
    "### Duplicates"
   ]
  },
  {
   "cell_type": "code",
   "execution_count": 15,
   "metadata": {
    "ExecuteTime": {
     "end_time": "2021-01-15T12:11:53.571370Z",
     "start_time": "2021-01-15T12:11:53.416656Z"
    }
   },
   "outputs": [
    {
     "data": {
      "text/plain": [
       "False    566\n",
       "dtype: int64"
      ]
     },
     "execution_count": 15,
     "metadata": {},
     "output_type": "execute_result"
    }
   ],
   "source": [
    "df.duplicated().value_counts()"
   ]
  },
  {
   "cell_type": "markdown",
   "metadata": {},
   "source": [
    "### Noise"
   ]
  },
  {
   "cell_type": "markdown",
   "metadata": {},
   "source": [
    "#### Features ordered by standard deviation."
   ]
  },
  {
   "cell_type": "code",
   "execution_count": 16,
   "metadata": {
    "ExecuteTime": {
     "end_time": "2021-01-15T12:11:53.598348Z",
     "start_time": "2021-01-15T12:11:53.572354Z"
    }
   },
   "outputs": [
    {
     "data": {
      "text/plain": [
       "Area (Worst)                 569.722315\n",
       "Area (Mean)                  352.102951\n",
       "Area (Error)                  45.528974\n",
       "Perimeter (Worst)             33.627324\n",
       "Perimeter (Mean)              24.307412\n",
       "Texture (Worst)                6.115881\n",
       "Radius (Worst)                 4.844686\n",
       "Texture (Mean)                 4.301849\n",
       "Radius (Mean)                  3.528840\n",
       "Perimeter (Error)              2.025363\n",
       "Texture (Error)                0.550677\n",
       "Diagnosis                      0.483506\n",
       "Radius (Error)                 0.277821\n",
       "Concavity (Worst)              0.208773\n",
       "Compactness (Worst)            0.157306\n",
       "Concavity (Mean)               0.079767\n",
       "Concave Points (Worst)         0.065471\n",
       "Symmetry (Worst)               0.061737\n",
       "Compactness (Mean)             0.052820\n",
       "Concave Points (Mean)          0.038792\n",
       "Concavity (Error)              0.030242\n",
       "Symmetry (Mean)                0.027410\n",
       "Smoothness (Worst)             0.022568\n",
       "Fractal Dimension (Worst)      0.018087\n",
       "Compactness (Error)            0.017940\n",
       "Smoothness (Mean)              0.014005\n",
       "Symmetry (Error)               0.008285\n",
       "Fractal Dimension (Mean)       0.007062\n",
       "Concave Points (Error)         0.006175\n",
       "Smoothness (Error)             0.003009\n",
       "Fractal Dimension (Error)      0.002653\n",
       "dtype: float64"
      ]
     },
     "execution_count": 16,
     "metadata": {},
     "output_type": "execute_result"
    }
   ],
   "source": [
    "df.std().sort_values(ascending=False)"
   ]
  },
  {
   "cell_type": "code",
   "execution_count": 17,
   "metadata": {
    "ExecuteTime": {
     "end_time": "2021-01-15T12:11:53.804538Z",
     "start_time": "2021-01-15T12:11:53.600337Z"
    }
   },
   "outputs": [
    {
     "data": {
      "text/plain": [
       "[Text(0, 0, 'Benign'), Text(0, 0, 'Malignant')]"
      ]
     },
     "execution_count": 17,
     "metadata": {},
     "output_type": "execute_result"
    },
    {
     "data": {
      "image/png": "[encoded data removed]",
      "text/plain": [
       "<Figure size 648x216 with 1 Axes>"
      ]
     },
     "metadata": {
      "needs_background": "light"
     },
     "output_type": "display_data"
    }
   ],
   "source": [
    "fig, ax = plt.subplots(figsize=(9, 3))\n",
    "ax = sns.boxplot(y='Diagnosis', x='Area (Worst)', data=df, orient=\"h\", width= 0.6, palette=\"mako\")\n",
    "ax.set_yticklabels(['Benign','Malignant'])"
   ]
  },
  {
   "cell_type": "code",
   "execution_count": null,
   "metadata": {
    "ExecuteTime": {
     "end_time": "2021-01-15T12:14:07.029359Z",
     "start_time": "2021-01-15T12:13:48.175Z"
    }
   },
   "outputs": [],
   "source": [
    "df[\"Fractal Dimension (Error)\"].plot.hist()"
   ]
  },
  {
   "cell_type": "markdown",
   "metadata": {},
   "source": [
    "#### Removing all rows containing possible outliers"
   ]
  },
  {
   "cell_type": "code",
   "execution_count": null,
   "metadata": {
    "ExecuteTime": {
     "end_time": "2021-01-15T12:11:54.445410Z",
     "start_time": "2021-01-15T12:11:32.164Z"
    }
   },
   "outputs": [],
   "source": [
    "df_knn_no_outliers = df_knn[(np.abs(stats.zscore(df_knn)) < 3).all(axis=1)]\n",
    "\n",
    "fig, ax = plt.subplots(figsize=(9, 3))\n",
    "ax = sns.boxplot(y='Diagnosis', x='Area (Worst)', data=df_knn_no_outliers, orient=\"h\", width= 0.6, palette=\"mako\")\n",
    "ax.set_yticklabels(['Benign','Malignant'])"
   ]
  },
  {
   "cell_type": "code",
   "execution_count": null,
   "metadata": {
    "ExecuteTime": {
     "end_time": "2021-01-15T12:11:54.446409Z",
     "start_time": "2021-01-15T12:11:32.166Z"
    }
   },
   "outputs": [],
   "source": [
    "df_knn_no_outliers.info()"
   ]
  },
  {
   "cell_type": "markdown",
   "metadata": {},
   "source": [
    "### Correlation Analysis"
   ]
  },
  {
   "cell_type": "code",
   "execution_count": 22,
   "metadata": {
    "ExecuteTime": {
     "end_time": "2021-01-15T12:14:47.211459Z",
     "start_time": "2021-01-15T12:14:47.201465Z"
    }
   },
   "outputs": [],
   "source": [
    "df_mean = df[[\"Radius (Mean)\", \n",
    "              \"Texture (Mean)\", \n",
    "              \"Perimeter (Mean)\", \n",
    "              \"Area (Mean)\", \n",
    "              \"Smoothness (Mean)\", \n",
    "              \"Compactness (Mean)\", \n",
    "              \"Concavity (Mean)\",\n",
    "             \"Concave Points (Mean)\",\n",
    "             \"Symmetry (Mean)\",\n",
    "             \"Fractal Dimension (Mean)\",\n",
    "             \"Diagnosis\"]]\n",
    "\n",
    "df_error = df[[\"Radius (Error)\", \n",
    "              \"Texture (Error)\", \n",
    "              \"Perimeter (Error)\", \n",
    "              \"Area (Error)\", \n",
    "              \"Smoothness (Error)\", \n",
    "              \"Compactness (Error)\", \n",
    "              \"Concavity (Error)\",\n",
    "             \"Concave Points (Error)\",\n",
    "             \"Symmetry (Error)\",\n",
    "             \"Fractal Dimension (Error)\",\n",
    "              \"Diagnosis\"]]\n",
    "\n",
    "df_worst = df[[\"Radius (Worst)\", \n",
    "              \"Texture (Worst)\", \n",
    "              \"Perimeter (Worst)\", \n",
    "              \"Area (Worst)\", \n",
    "              \"Smoothness (Worst)\", \n",
    "              \"Compactness (Worst)\", \n",
    "              \"Concavity (Worst)\",\n",
    "             \"Concave Points (Worst)\",\n",
    "             \"Symmetry (Worst)\",\n",
    "             \"Fractal Dimension (Worst)\",\n",
    "              \"Diagnosis\"]]\n",
    "\n",
    "df_size = df[[\"Radius (Mean)\",\n",
    "             \"Perimeter (Mean)\",\n",
    "             \"Area (Mean)\",\n",
    "             \"Diagnosis\"]]"
   ]
  },
  {
   "cell_type": "markdown",
   "metadata": {},
   "source": [
    "#### Mean"
   ]
  },
  {
   "cell_type": "code",
   "execution_count": 1,
   "metadata": {
    "ExecuteTime": {
     "end_time": "2021-02-19T14:18:25.783615Z",
     "start_time": "2021-02-19T14:18:25.531764Z"
    }
   },
   "outputs": [
    {
     "ename": "NameError",
     "evalue": "name 'df_mean' is not defined",
     "output_type": "error",
     "traceback": [
      "\u001b[1;31m---------------------------------------------------------------------------\u001b[0m",
      "\u001b[1;31mNameError\u001b[0m                                 Traceback (most recent call last)",
      "\u001b[1;32m<ipython-input-1-4f76cc93130e>\u001b[0m in \u001b[0;36m<module>\u001b[1;34m\u001b[0m\n\u001b[0;32m      1\u001b[0m \u001b[1;31m#import heatmap\u001b[0m\u001b[1;33m\u001b[0m\u001b[1;33m\u001b[0m\u001b[1;33m\u001b[0m\u001b[0m\n\u001b[1;32m----> 2\u001b[1;33m \u001b[0mcorr\u001b[0m \u001b[1;33m=\u001b[0m \u001b[0mdf_mean\u001b[0m\u001b[1;33m.\u001b[0m\u001b[0mcorr\u001b[0m\u001b[1;33m(\u001b[0m\u001b[0mmethod\u001b[0m\u001b[1;33m=\u001b[0m\u001b[1;34m'spearman'\u001b[0m\u001b[1;33m)\u001b[0m\u001b[1;33m\u001b[0m\u001b[1;33m\u001b[0m\u001b[0m\n\u001b[0m\u001b[0;32m      3\u001b[0m \u001b[1;33m\u001b[0m\u001b[0m\n\u001b[0;32m      4\u001b[0m \u001b[0mfig\u001b[0m\u001b[1;33m,\u001b[0m \u001b[0max\u001b[0m \u001b[1;33m=\u001b[0m \u001b[0mplt\u001b[0m\u001b[1;33m.\u001b[0m\u001b[0msubplots\u001b[0m\u001b[1;33m(\u001b[0m\u001b[0mfigsize\u001b[0m\u001b[1;33m=\u001b[0m\u001b[1;33m(\u001b[0m\u001b[1;36m8\u001b[0m\u001b[1;33m,\u001b[0m \u001b[1;36m6\u001b[0m\u001b[1;33m)\u001b[0m\u001b[1;33m)\u001b[0m\u001b[1;33m\u001b[0m\u001b[1;33m\u001b[0m\u001b[0m\n\u001b[0;32m      5\u001b[0m ax = sns.heatmap(\n",
      "\u001b[1;31mNameError\u001b[0m: name 'df_mean' is not defined"
     ]
    }
   ],
   "source": [
    "#import heatmap\n",
    "corr = df_mean.corr(method='spearman')\n",
    "\n",
    "fig, ax = plt.subplots(figsize=(8, 6))\n",
    "ax = sns.heatmap(\n",
    "    corr, \n",
    "    vmin=-1, vmax=1, center=0,\n",
    "    cmap='sns.diverging_palette(20, 220, n=200)',\n",
    "    square=True,\n",
    "    annot=True,\n",
    "    fmt=\".1n\",\n",
    "    linewidths=.5\n",
    ")\n",
    "ax.set_xticklabels(\n",
    "    ax.get_xticklabels(),\n",
    "    rotation=45,\n",
    "    horizontalalignment='right',\n",
    "    \n",
    ");\n",
    "plt.title(\"Mean Features Correlation Matrix\")\n",
    "ax\n"
   ]
  },
  {
   "cell_type": "code",
   "execution_count": null,
   "metadata": {
    "ExecuteTime": {
     "end_time": "2021-01-15T12:11:54.449409Z",
     "start_time": "2021-01-15T12:11:32.174Z"
    }
   },
   "outputs": [],
   "source": [
    "sns.pairplot(data=df_mean, hue=\"Diagnosis\")"
   ]
  },
  {
   "cell_type": "markdown",
   "metadata": {
    "ExecuteTime": {
     "end_time": "2020-11-28T19:05:05.630372Z",
     "start_time": "2020-11-28T19:05:05.627365Z"
    }
   },
   "source": [
    "#### Error"
   ]
  },
  {
   "cell_type": "code",
   "execution_count": 24,
   "metadata": {
    "ExecuteTime": {
     "end_time": "2021-01-15T12:14:53.803933Z",
     "start_time": "2021-01-15T12:14:53.202283Z"
    }
   },
   "outputs": [
    {
     "data": {
      "text/plain": [
       "<matplotlib.axes._subplots.AxesSubplot at 0x257d4a130d0>"
      ]
     },
     "execution_count": 24,
     "metadata": {},
     "output_type": "execute_result"
    },
    {
     "data": {
      "image/png": "[encoded data removed]",
      "text/plain": [
       "<Figure size 576x432 with 2 Axes>"
      ]
     },
     "metadata": {
      "needs_background": "light"
     },
     "output_type": "display_data"
    }
   ],
   "source": [
    "#import heatmap\n",
    "corr = df_error.corr(method='spearman')\n",
    "\n",
    "fig, ax = plt.subplots(figsize=(8, 6))\n",
    "ax = sns.heatmap(\n",
    "    corr, \n",
    "    vmin=-1, vmax=1, center=0,\n",
    "    cmap=sns.diverging_palette(20, 220, n=200),\n",
    "    square=True,\n",
    "    annot=True,\n",
    "    fmt=\".1n\",\n",
    "    linewidths=.5\n",
    ")\n",
    "ax.set_xticklabels(\n",
    "    ax.get_xticklabels(),\n",
    "    rotation=45,\n",
    "    horizontalalignment='right',\n",
    "    \n",
    ");\n",
    "plt.title(\"Error Features Correlation Matrix\")\n",
    "ax"
   ]
  },
  {
   "cell_type": "markdown",
   "metadata": {},
   "source": [
    "#### Worst"
   ]
  },
  {
   "cell_type": "code",
   "execution_count": 25,
   "metadata": {
    "ExecuteTime": {
     "end_time": "2021-01-15T12:14:57.371658Z",
     "start_time": "2021-01-15T12:14:56.772991Z"
    }
   },
   "outputs": [
    {
     "data": {
      "text/plain": [
       "<matplotlib.axes._subplots.AxesSubplot at 0x257d4a88670>"
      ]
     },
     "execution_count": 25,
     "metadata": {},
     "output_type": "execute_result"
    },
    {
     "data": {
      "image/png": "[encoded data removed]",
      "text/plain": [
       "<Figure size 576x432 with 2 Axes>"
      ]
     },
     "metadata": {
      "needs_background": "light"
     },
     "output_type": "display_data"
    }
   ],
   "source": [
    "\n",
    "#import heatmap\n",
    "corr = df_worst.corr(method='spearman')\n",
    "\n",
    "fig, ax = plt.subplots(figsize=(8, 6))\n",
    "ax = sns.heatmap(\n",
    "    corr, \n",
    "    vmin=-1, vmax=1, center=0,\n",
    "    cmap=sns.diverging_palette(20, 220, n=200),\n",
    "    square=True,\n",
    "    annot=True,\n",
    "    fmt=\".1n\",\n",
    "    linewidths=.5\n",
    ")\n",
    "ax.set_xticklabels(\n",
    "    ax.get_xticklabels(),\n",
    "    rotation=45,\n",
    "    horizontalalignment='right',\n",
    "    \n",
    ");\n",
    "plt.title(\"Worst Features Correlation Matrix\")\n",
    "ax"
   ]
  },
  {
   "cell_type": "markdown",
   "metadata": {},
   "source": [
    "#### All"
   ]
  },
  {
   "cell_type": "code",
   "execution_count": null,
   "metadata": {
    "ExecuteTime": {
     "end_time": "2021-01-15T12:11:54.454406Z",
     "start_time": "2021-01-15T12:11:32.190Z"
    }
   },
   "outputs": [],
   "source": [
    "corr = df.corr(method='pearson')\n",
    "\n",
    "fig, ax = plt.subplots(figsize=(25, 25))\n",
    "ax = sns.heatmap(\n",
    "    corr, \n",
    "    vmin=-1, vmax=1, center=0,\n",
    "    cmap=sns.diverging_palette(20, 220, n=200),\n",
    "    square=True,\n",
    "    annot=True,\n",
    "    linewidths=.5\n",
    ")\n",
    "ax.set_xticklabels(\n",
    "    ax.get_xticklabels(),\n",
    "    rotation=45,\n",
    "    horizontalalignment='right',\n",
    "    \n",
    ");\n",
    "ax"
   ]
  },
  {
   "cell_type": "markdown",
   "metadata": {},
   "source": [
    "## Recursive Feature Elimination"
   ]
  },
  {
   "cell_type": "code",
   "execution_count": null,
   "metadata": {
    "ExecuteTime": {
     "end_time": "2021-01-15T12:11:54.455406Z",
     "start_time": "2021-01-15T12:11:32.193Z"
    }
   },
   "outputs": [],
   "source": [
    "\n",
    "# Splits the Pandas DataFrame into a feature matrix (X) and class/label vector (y)\n",
    "X = df_dropna.iloc[:,:len(df_dropna.columns)-1]\n",
    "y = df_dropna.iloc[:,len(df_dropna.columns)-1]\n",
    "\n",
    "# Transform class labels to numeric labels\n",
    "le = preprocessing.LabelEncoder()\n",
    "le.fit(y)\n",
    "y = le.transform(y)\n",
    "\n",
    "# Instantiating classifier (with default hyper-parameter values)\n",
    "model = DecisionTreeClassifier()\n",
    "\n",
    "# Instantiating (setting up) RFE\n",
    "rfecv = RFECV(estimator=model, step=1, cv=StratifiedKFold(5), scoring='accuracy')\n",
    "\n",
    "start_time = time()\n",
    "rfecv.fit(X, y)\n",
    "end_time = time()\n",
    "\n",
    "# Printing out the results\n",
    "print(\"RFECV took %.2f seconds to identify %d features\" % \n",
    "      ((end_time - start_time), rfecv.n_features_))\n",
    "print(rfecv.ranking_)"
   ]
  },
  {
   "cell_type": "code",
   "execution_count": null,
   "metadata": {
    "ExecuteTime": {
     "end_time": "2021-01-15T12:11:54.456405Z",
     "start_time": "2021-01-15T12:11:32.195Z"
    }
   },
   "outputs": [],
   "source": [
    "# Creating a DataFrame to display the original columns and their ranking\n",
    "feature_ranking_df = pd.DataFrame()\n",
    "feature_ranking_df['feature'] = X.columns\n",
    "feature_ranking_df['rank'] = rfecv.ranking_\n",
    "\n",
    "feature_ranking_df = feature_ranking_df.sort_values(by='rank', ascending=True)\n",
    "feature_ranking_df.head(10)"
   ]
  },
  {
   "cell_type": "code",
   "execution_count": null,
   "metadata": {
    "ExecuteTime": {
     "end_time": "2021-01-15T12:11:54.456405Z",
     "start_time": "2021-01-15T12:11:32.198Z"
    }
   },
   "outputs": [],
   "source": [
    "print(df_dropna[:,:len(df_dropna.columns)-1])"
   ]
  },
  {
   "cell_type": "markdown",
   "metadata": {},
   "source": [
    "## Hyper-parameter tuning"
   ]
  },
  {
   "cell_type": "code",
   "execution_count": null,
   "metadata": {
    "ExecuteTime": {
     "end_time": "2021-01-15T12:11:54.457420Z",
     "start_time": "2021-01-15T12:11:32.201Z"
    }
   },
   "outputs": [],
   "source": [
    "def report(results, rank_metric='score', n_top=3):\n",
    "    \"\"\"\n",
    "    Utility function to report best scores.\n",
    "    :param results: the cv_results_ data structure from the optimisation algorithm\n",
    "    :param rank_metric: name of the metric to report results for\n",
    "    :param n_top: the number of top results to report\n",
    "    \"\"\"\n",
    "    print(\"\\nModels ranked according to\", rank_metric)\n",
    "    for i in range(1, n_top + 1):\n",
    "        candidates = np.flatnonzero(results[\"rank_test_\" + rank_metric] == i)\n",
    "        for candidate in candidates:\n",
    "            print(\"Model with rank: {0}\".format(i))\n",
    "            print(\"Mean validation score: {0:.2f} (+/- {1:.2f})\".format(\n",
    "                  results[\"mean_test_\" + rank_metric][candidate],\n",
    "                  results[\"std_test_\" + rank_metric][candidate]*2))\n",
    "            print(\"Params: {0}\".format(results['params'][candidate]))\n",
    "            print(\"\")"
   ]
  },
  {
   "cell_type": "markdown",
   "metadata": {},
   "source": [
    "### Random Search"
   ]
  },
  {
   "cell_type": "code",
   "execution_count": null,
   "metadata": {
    "ExecuteTime": {
     "end_time": "2021-01-15T12:11:54.458402Z",
     "start_time": "2021-01-15T12:11:32.204Z"
    }
   },
   "outputs": [],
   "source": [
    "# instantiating the model\n",
    "model = KNeighborsClassifier()\n",
    "\n",
    "# specify parameters and distributions to sample from\n",
    "param_dict = {\"n_neighbours\": [1, 5],\n",
    "              \"n_trees\": [1, 100],\n",
    "              \"min_samples_split\": sp_randint(2, 11),\n",
    "              \"criterion\": [\"gini\", \"entropy\"]}\n",
    "\n",
    "\n",
    "# run random search\n",
    "print(\"> STARTING RANDOM SEARCH ...\")\n",
    "n_iter_search = 20\n",
    "n_folds = 10\n",
    "\n",
    "random_search = RandomizedSearchCV(model, param_distributions=param_dict,\n",
    "                                   n_iter=n_iter_search, cv=n_folds)\n",
    "\n",
    "start_time = time()\n",
    "random_search.fit(X, y)\n",
    "end_time = time()\n",
    "\n",
    "\n",
    "print(\"> RANDOM SEARCH COMPLETE\")\n",
    "\n",
    "print(\"\\nRandomizedSearchCV took %.2f seconds for %d candidates\"\n",
    "      \" parameter settings.\" % ((end_time - start_time), n_iter_search))\n",
    "report(random_search.cv_results_)"
   ]
  },
  {
   "cell_type": "markdown",
   "metadata": {},
   "source": [
    "### Grid Search"
   ]
  },
  {
   "cell_type": "markdown",
   "metadata": {},
   "source": [
    "#### Random Forest"
   ]
  },
  {
   "cell_type": "code",
   "execution_count": null,
   "metadata": {
    "ExecuteTime": {
     "end_time": "2021-01-15T12:11:54.459403Z",
     "start_time": "2021-01-15T12:11:32.208Z"
    }
   },
   "outputs": [],
   "source": [
    "# instantiating the model\n",
    "model = my_classifier.MyClassifier()\n",
    "\n",
    "# defining parameter grid\n",
    "param_grid = {\"max_depth\": [2, 4, 6, 8, None],\n",
    "              \"n_trees\": [50, 100],\n",
    "              \"min_samples_split\": [2, 4, 6, 8, 10],\n",
    "              \"criterion\": [\"gini\", \"entropy\"]}\n",
    "\n",
    "# run grid search\n",
    "print(\"\\n> STARTING GRID SEARCH ...\")\n",
    "n_folds = 10\n",
    "grid_search = GridSearchCV(model, param_grid=param_grid, cv=n_folds)\n",
    "\n",
    "start_time = time()\n",
    "grid_search.fit(X, y)\n",
    "end_time = time()\n",
    "\n",
    "print(type(grid_search))\n",
    "\n",
    "print(\"> GRID SEARCH COMPLETE\")\n",
    "\n",
    "print(\"\\nGridSearchCV took %.2f seconds for %d candidate parameter settings.\"\n",
    "      % (end_time - start_time, len(grid_search.cv_results_['params'])))\n",
    "report(grid_search.cv_results_)"
   ]
  },
  {
   "cell_type": "markdown",
   "metadata": {},
   "source": [
    "#### Decision Tree"
   ]
  },
  {
   "cell_type": "code",
   "execution_count": null,
   "metadata": {
    "ExecuteTime": {
     "end_time": "2021-01-15T12:11:54.460402Z",
     "start_time": "2021-01-15T12:11:32.214Z"
    },
    "scrolled": true
   },
   "outputs": [],
   "source": [
    "model = DecisionTreeClassifier()\n",
    "\n",
    "# defining parameter grid\n",
    "param_grid = {\"max_depth\": [2, 4, 6, 8, None],\n",
    "              \"min_samples_split\": [2, 4, 6, 8, 10],\n",
    "              \"criterion\": [\"gini\", \"entropy\"]}\n",
    "\n",
    "# run grid search\n",
    "print(\"\\n> STARTING GRID SEARCH ...\")\n",
    "n_folds = 10\n",
    "grid_search = GridSearchCV(model, param_grid=param_grid, cv=n_folds)\n",
    "\n",
    "start_time = time()\n",
    "grid_search.fit(X, y)\n",
    "end_time = time()\n",
    "\n",
    "print(type(grid_search))\n",
    "\n",
    "print(\"> GRID SEARCH COMPLETE\")\n",
    "\n",
    "print(\"\\nGridSearchCV took %.2f seconds for %d candidate parameter settings.\"\n",
    "      % (end_time - start_time, len(grid_search.cv_results_['params'])))\n",
    "report(grid_search.cv_results_)"
   ]
  },
  {
   "cell_type": "markdown",
   "metadata": {},
   "source": [
    "#### KNN"
   ]
  },
  {
   "cell_type": "code",
   "execution_count": null,
   "metadata": {
    "ExecuteTime": {
     "end_time": "2021-01-15T12:11:54.461402Z",
     "start_time": "2021-01-15T12:11:32.218Z"
    }
   },
   "outputs": [],
   "source": [
    "# instantiating the model\n",
    "model = KNeighborsClassifier()\n",
    "\n",
    "# defining parameter grid\n",
    "param_grid = {\"n_neighbors\": [3, 5, 10, 8],\n",
    "              \"metric\": [\"euclidean\", \"manhattan\", \"chebyshev\", \"minkowski\"]}\n",
    "\n",
    "# run grid search\n",
    "print(\"\\n> STARTING GRID SEARCH ...\")\n",
    "n_folds = 10\n",
    "grid_search = GridSearchCV(model, param_grid=param_grid, cv=n_folds)\n",
    "\n",
    "start_time = time()\n",
    "grid_search.fit(X, y)\n",
    "end_time = time()\n",
    "\n",
    "print(type(grid_search))\n",
    "\n",
    "print(\"> GRID SEARCH COMPLETE\")\n",
    "\n",
    "print(\"\\nGridSearchCV took %.2f seconds for %d candidate parameter settings.\"\n",
    "      % (end_time - start_time, len(grid_search.cv_results_['params'])))\n",
    "report(grid_search.cv_results_)"
   ]
  },
  {
   "cell_type": "markdown",
   "metadata": {},
   "source": [
    "##  Feature Selection"
   ]
  },
  {
   "cell_type": "code",
   "execution_count": null,
   "metadata": {
    "ExecuteTime": {
     "end_time": "2021-01-15T12:11:54.462402Z",
     "start_time": "2021-01-15T12:11:32.221Z"
    }
   },
   "outputs": [],
   "source": [
    "df_knn_rfe = df_knn[[\"Concave Points (Worst)\",\n",
    "                     \"Texture (Worst)\",\n",
    "                     \"Radius (Worst)\",\n",
    "                     \"Smoothness (Worst)\",\n",
    "                     \"Area (Worst)\",\n",
    "                     \"Area (Error)\",\n",
    "                     \"Concave Points (Mean)\",\n",
    "                     \"Compactness (Worst)\",\n",
    "                     \"Concavity (Worst)\",\n",
    "                     \"Smoothness (Error)\",\n",
    "                     \"Diagnosis\"]]"
   ]
  },
  {
   "cell_type": "code",
   "execution_count": null,
   "metadata": {
    "ExecuteTime": {
     "end_time": "2021-01-15T12:11:54.463401Z",
     "start_time": "2021-01-15T12:11:32.225Z"
    }
   },
   "outputs": [],
   "source": [
    "df_knn_wolberg = df_knn[[\"Texture (Mean)\",\n",
    "                         \"Area (Worst)\",\n",
    "                         \"Smoothness (Worst)\",\n",
    "                         \"Diagnosis\"]]"
   ]
  },
  {
   "cell_type": "code",
   "execution_count": null,
   "metadata": {
    "ExecuteTime": {
     "end_time": "2021-01-14T16:09:14.301526Z",
     "start_time": "2021-01-14T16:09:13.224247Z"
    }
   },
   "outputs": [],
   "source": []
  },
  {
   "cell_type": "code",
   "execution_count": null,
   "metadata": {
    "ExecuteTime": {
     "end_time": "2021-01-03T17:43:33.749579Z",
     "start_time": "2021-01-03T17:43:33.718597Z"
    }
   },
   "outputs": [],
   "source": []
  },
  {
   "cell_type": "markdown",
   "metadata": {},
   "source": [
    "### Preparing the X and y arrays in preparation for running the machine learning classifier below"
   ]
  },
  {
   "cell_type": "code",
   "execution_count": 26,
   "metadata": {
    "ExecuteTime": {
     "end_time": "2021-01-15T12:17:09.981684Z",
     "start_time": "2021-01-15T12:17:09.960698Z"
    }
   },
   "outputs": [],
   "source": [
    "df['Diagnosis'] = df['Diagnosis'].replace('M', 1)\n",
    "df['Diagnosis'] = df['Diagnosis'].replace('B', 0)\n",
    "\n",
    "df = df.drop('ID', 1)\n",
    "df = df.replace(' ', np.nan)\n",
    "df = df.replace('', np.nan)\n",
    "\n",
    "df = df.drop([203, 433, 549])\n",
    "imputer = KNNImputer(n_neighbors=5)\n",
    "df_knn = pd.DataFrame(imputer.fit_transform(df),columns = df.columns)"
   ]
  },
  {
   "cell_type": "code",
   "execution_count": 27,
   "metadata": {
    "ExecuteTime": {
     "end_time": "2021-01-15T12:17:12.503908Z",
     "start_time": "2021-01-15T12:17:12.498910Z"
    }
   },
   "outputs": [],
   "source": [
    "#The dataset\n",
    "df_test = df_knn\n",
    "\n",
    "# Splits the Pandas DataFrame into a feature matrix (X) and class/label vector (y)\n",
    "X = df_test.iloc[:,:len(df_test.columns)-1]\n",
    "y = df_test.iloc[:,len(df_test.columns)-1]\n",
    "\n",
    "# Transform class labels to numeric labels\n",
    "le = preprocessing.LabelEncoder()\n",
    "le.fit(y)\n",
    "y = le.transform(y)"
   ]
  },
  {
   "cell_type": "markdown",
   "metadata": {},
   "source": [
    "## Running Machine Learning classifier\n",
    "\n",
    "You should replace some code indicated below to import, load and run your own classifier.\n",
    "\n",
    "Literally just two lines where you need to update the code. Otherwise, this should be able to run your classifier, to demonstrate that it is working and running properly against the dataset provided."
   ]
  },
  {
   "cell_type": "markdown",
   "metadata": {},
   "source": [
    "### Hold-out validation"
   ]
  },
  {
   "cell_type": "code",
   "execution_count": null,
   "metadata": {
    "ExecuteTime": {
     "end_time": "2021-01-15T12:11:54.465400Z",
     "start_time": "2021-01-15T12:11:32.239Z"
    }
   },
   "outputs": [],
   "source": [
    "# NOTE THAT THIS IS JUST AN EXAMPLE WITH THE RANDOM CLASSIFIER\n",
    "# THIS SHOULD BE REPLACED WITH RUNNING YOUR OWN CLASSIFIER (FROM A PYTHON FILE)\n",
    "# PS: you need to restart the notebook to load changes to python files used (like the random_classifier here)\n",
    "\n",
    "import matplotlib.pyplot as plt\n",
    "import numpy as np\n",
    "from sklearn.model_selection import train_test_split\n",
    "from sklearn import metrics\n",
    "from classifier import my_classifier     # REPLACE WITH IMPORT FOR YOUR CLASSIFIER\n",
    "\n",
    "# arrays for storing performance metrics\n",
    "accuracy_list = np.array([])\n",
    "precision_list = np.array([])\n",
    "recall_list = np.array([])\n",
    "fscore_list = np.array([])\n",
    "\n",
    "# sets the number of runs of hold-out validation below (from which we get statistics)\n",
    "n = 100\n",
    "\n",
    "print(\"Training...\")\n",
    "for x in range(n):\n",
    "    # Hold-out validation - 80% training and 20% testing\n",
    "    X_train, X_test, y_train, y_test = train_test_split(X, y, test_size=0.2, random_state=None)\n",
    "    \n",
    "    # Creating the model, training and testing it\n",
    "    model = my_classifier.MyClassifier(n_estimators = 100, random_state=1, criterion='entropy', min_samples_split=4, max_depth=None) # REPLACE WITH YOUR CLASSIFIER\n",
    "    model = model.fit(X_train, y_train)\n",
    "    y_pred_tr = model.predict(X_train)\n",
    "    y_pred = model.predict(X_test)\n",
    "    \n",
    "    # Appending performance metrics to arrays created above\n",
    "    accuracy_list = np.append(accuracy_list, metrics.accuracy_score(y_test, y_pred))\n",
    "    precision_list = np.append(precision_list, metrics.precision_score(y_test, y_pred, average='macro', zero_division=0))\n",
    "    recall_list = np.append(recall_list, metrics.recall_score(y_test, y_pred, average='macro', zero_division=0))\n",
    "    fscore_list = np.append(fscore_list, metrics.f1_score(y_test, y_pred, average='macro', zero_division=0))\n",
    "\n",
    "\n",
    "\n",
    "\n",
    "# printing out the performance metrics (mean + standard deviation)\n",
    "print(\"Accuracy:  %0.2f (+/- %0.2f)\" % (accuracy_list.mean(), accuracy_list.std() * 2))\n",
    "print(\"Precision: %0.2f (+/- %0.2f)\" % (precision_list.mean(), precision_list.std() * 2))\n",
    "print(\"Recall:    %0.2f (+/- %0.2f)\" % (recall_list.mean(), recall_list.std() * 2))\n",
    "print(\"F-score:    %0.2f (+/- %0.2f)\" % (fscore_list.mean(), fscore_list.std() * 2))\n",
    "print(metrics.confusion_matrix(y_test, y_pred))\n",
    "\n",
    "# plotting a histogram of the performance metrics\n",
    "plt.figure()\n",
    "plt.hist(accuracy_list, bins=50, alpha=0.5, label='accuracy')\n",
    "plt.hist(precision_list, bins=50, alpha=0.5, label='precision')\n",
    "plt.hist(recall_list, bins=50, alpha=0.5, label='recall')\n",
    "plt.hist(fscore_list, bins=50, alpha=0.5, label='fscore')\n",
    "plt.legend(loc='upper right')\n",
    "plt.xlabel('Performance (metric value)')\n",
    "plt.ylabel('Frequency')\n",
    "plt.show()"
   ]
  },
  {
   "cell_type": "markdown",
   "metadata": {},
   "source": [
    "### Cross Validation"
   ]
  },
  {
   "cell_type": "code",
   "execution_count": 28,
   "metadata": {
    "ExecuteTime": {
     "end_time": "2021-01-15T12:17:35.308275Z",
     "start_time": "2021-01-15T12:17:22.365358Z"
    }
   },
   "outputs": [
    {
     "name": "stdout",
     "output_type": "stream",
     "text": [
      "Accuracy (Testing):  0.96 (+/- 0.05)\n",
      "Precision (Testing):  0.95 (+/- 0.10)\n",
      "Recall (Testing):  0.95 (+/- 0.08)\n",
      "F1-Score (Testing):  0.95 (+/- 0.07)\n",
      "Time taken: 6.42\n"
     ]
    },
    {
     "data": {
      "text/plain": [
       "array([[198,  12],\n",
       "       [ 10, 346]], dtype=int64)"
      ]
     },
     "execution_count": 28,
     "metadata": {},
     "output_type": "execute_result"
    }
   ],
   "source": [
    "from sklearn.model_selection import cross_val_score\n",
    "from sklearn.model_selection import cross_validate\n",
    "from sklearn.model_selection import cross_val_predict\n",
    "from sklearn.metrics import make_scorer, accuracy_score, precision_score, recall_score, f1_score, confusion_matrix\n",
    "from classifier import my_classifier\n",
    "\n",
    "# Instantiating model\n",
    "model = my_classifier.MyClassifier(n_estimators = 100, random_state=1, criterion='entropy', min_samples_split=4, max_depth=None)\n",
    "#model = DecisionTreeClassifier(random_state=1, criterion='entropy', min_samples_split=4, max_depth=None)\n",
    "#model = KNeighborsClassifier(n_neighbors=3, metric='manhattan')\n",
    "\n",
    "#Scores\n",
    "scoring = {'accuracy' : make_scorer(accuracy_score), \n",
    "           'precision' : make_scorer(precision_score),\n",
    "           'recall' : make_scorer(recall_score), \n",
    "           'f1_score' : make_scorer(f1_score)}\n",
    "\n",
    "start_time = time()\n",
    "# 10-fold cross validation\n",
    "scores = cross_validate(model, X, y, cv=10, scoring=scoring)\n",
    "end_time = time()\n",
    "\n",
    "print(\"Accuracy (Testing):  %0.2f (+/- %0.2f)\" % (scores['test_accuracy'].mean(), scores['test_accuracy'].std() * 2))\n",
    "print(\"Precision (Testing):  %0.2f (+/- %0.2f)\" % (scores['test_precision'].mean(), scores['test_precision'].std() * 2))\n",
    "print(\"Recall (Testing):  %0.2f (+/- %0.2f)\" % (scores['test_recall'].mean(), scores['test_recall'].std() * 2))\n",
    "print(\"F1-Score (Testing):  %0.2f (+/- %0.2f)\" % (scores['test_f1_score'].mean(), scores['test_f1_score'].std() * 2))\n",
    "#print(scores['train_accuracy'])\n",
    "y_train_pred = cross_val_predict(model, X, y, cv=10)\n",
    "print(\"Time taken: %0.2f\" % (end_time - start_time))\n",
    "confusion_matrix(y, y_train_pred, labels=[1, 0])\n"
   ]
  },
  {
   "cell_type": "code",
   "execution_count": 29,
   "metadata": {
    "ExecuteTime": {
     "end_time": "2021-01-15T12:17:36.225233Z",
     "start_time": "2021-01-15T12:17:36.164266Z"
    }
   },
   "outputs": [],
   "source": [
    "# Visualising the Decision Tree\n",
    "import pydot\n",
    "from sklearn import tree\n",
    "\n",
    "def visualise_tree(model, feature_list, class_labels):\n",
    "    \n",
    "    # Get feature names and class labels\n",
    "    X_df = df_test.iloc[:,:len(df_test.columns)-1]\n",
    "    feature_names = list(X_df.columns.values.tolist())\n",
    "    class_labels = df_test['Diagnosis'].unique()\n",
    "    \n",
    "    # Plot tree graph\n",
    "    dot_data = tree.export_graphviz(model, out_file=None, rotate=True\n",
    "       , feature_names=feature_names, class_names=['0', '1'] \n",
    "       , filled = True)\n",
    "    pdot = pydot.graph_from_dot_data(dot_data)\n",
    "    pdot[0].set_graph_defaults(size= \"\\\"7,7\\\"\")\n",
    "    graph= Source(pdot[0].to_string())\n",
    "    graph_svg = SVG(graph.pipe(format='svg'))\n",
    "    display(graph_svg)"
   ]
  },
  {
   "cell_type": "code",
   "execution_count": 31,
   "metadata": {
    "ExecuteTime": {
     "end_time": "2021-01-15T12:17:43.302386Z",
     "start_time": "2021-01-15T12:17:43.098486Z"
    }
   },
   "outputs": [
    {
     "name": "stdout",
     "output_type": "stream",
     "text": [
      "Accuracy: 0.94 (+/- 0.08)\n"
     ]
    },
    {
     "data": {
      "image/svg+xml": [
       "<svg xmlns=\"http://www.w3.org/2000/svg\" xmlns:xlink=\"http://www.w3.org/1999/xlink\" width=\"504pt\" height=\"320pt\" viewBox=\"0.00 0.00 504.00 319.82\">\n",
       "<g id=\"graph0\" class=\"graph\" transform=\"scale(0.62 0.62) rotate(0) translate(4 510)\">\n",
       "<title>Tree</title>\n",
       "<polygon fill=\"white\" stroke=\"transparent\" points=\"-4,4 -4,-510 806,-510 806,4 -4,4\"/>\n",
       "<!-- 0 -->\n",
       "<g id=\"node1\" class=\"node\">\n",
       "<title>0</title>\n",
       "<polygon fill=\"#f4cbae\" stroke=\"black\" points=\"179,-247.5 0,-247.5 0,-164.5 179,-164.5 179,-247.5\"/>\n",
       "<text text-anchor=\"middle\" x=\"89.5\" y=\"-232.3\" font-family=\"Times New Roman,serif\" font-size=\"14.00\">Perimeter (Worst) &lt;= 114.45</text>\n",
       "<text text-anchor=\"middle\" x=\"89.5\" y=\"-217.3\" font-family=\"Times New Roman,serif\" font-size=\"14.00\">entropy = 0.952</text>\n",
       "<text text-anchor=\"middle\" x=\"89.5\" y=\"-202.3\" font-family=\"Times New Roman,serif\" font-size=\"14.00\">samples = 509</text>\n",
       "<text text-anchor=\"middle\" x=\"89.5\" y=\"-187.3\" font-family=\"Times New Roman,serif\" font-size=\"14.00\">value = [320, 189]</text>\n",
       "<text text-anchor=\"middle\" x=\"89.5\" y=\"-172.3\" font-family=\"Times New Roman,serif\" font-size=\"14.00\">class = 0</text>\n",
       "</g>\n",
       "<!-- 1 -->\n",
       "<g id=\"node2\" class=\"node\">\n",
       "<title>1</title>\n",
       "<polygon fill=\"#e88f4e\" stroke=\"black\" points=\"423,-298.5 215,-298.5 215,-215.5 423,-215.5 423,-298.5\"/>\n",
       "<text text-anchor=\"middle\" x=\"319\" y=\"-283.3\" font-family=\"Times New Roman,serif\" font-size=\"14.00\">Concave Points (Worst) &lt;= 0.111</text>\n",
       "<text text-anchor=\"middle\" x=\"319\" y=\"-268.3\" font-family=\"Times New Roman,serif\" font-size=\"14.00\">entropy = 0.461</text>\n",
       "<text text-anchor=\"middle\" x=\"319\" y=\"-253.3\" font-family=\"Times New Roman,serif\" font-size=\"14.00\">samples = 349</text>\n",
       "<text text-anchor=\"middle\" x=\"319\" y=\"-238.3\" font-family=\"Times New Roman,serif\" font-size=\"14.00\">value = [315, 34]</text>\n",
       "<text text-anchor=\"middle\" x=\"319\" y=\"-223.3\" font-family=\"Times New Roman,serif\" font-size=\"14.00\">class = 0</text>\n",
       "</g>\n",
       "<!-- 0&#45;&gt;1 -->\n",
       "<g id=\"edge1\" class=\"edge\">\n",
       "<title>0-&gt;1</title>\n",
       "<path fill=\"none\" stroke=\"black\" d=\"M179.11,-225.86C187.63,-227.77 196.35,-229.73 205.06,-231.68\"/>\n",
       "<polygon fill=\"black\" stroke=\"black\" points=\"204.36,-235.11 214.88,-233.88 205.89,-228.28 204.36,-235.11\"/>\n",
       "<text text-anchor=\"middle\" x=\"193.77\" y=\"-243.57\" font-family=\"Times New Roman,serif\" font-size=\"14.00\">True</text>\n",
       "</g>\n",
       "<!-- 8 -->\n",
       "<g id=\"node9\" class=\"node\">\n",
       "<title>8</title>\n",
       "<polygon fill=\"#3fa0e6\" stroke=\"black\" points=\"417.5,-169.5 220.5,-169.5 220.5,-86.5 417.5,-86.5 417.5,-169.5\"/>\n",
       "<text text-anchor=\"middle\" x=\"319\" y=\"-154.3\" font-family=\"Times New Roman,serif\" font-size=\"14.00\">Concave Points (Mean) &lt;= 0.05</text>\n",
       "<text text-anchor=\"middle\" x=\"319\" y=\"-139.3\" font-family=\"Times New Roman,serif\" font-size=\"14.00\">entropy = 0.201</text>\n",
       "<text text-anchor=\"middle\" x=\"319\" y=\"-124.3\" font-family=\"Times New Roman,serif\" font-size=\"14.00\">samples = 160</text>\n",
       "<text text-anchor=\"middle\" x=\"319\" y=\"-109.3\" font-family=\"Times New Roman,serif\" font-size=\"14.00\">value = [5, 155]</text>\n",
       "<text text-anchor=\"middle\" x=\"319\" y=\"-94.3\" font-family=\"Times New Roman,serif\" font-size=\"14.00\">class = 1</text>\n",
       "</g>\n",
       "<!-- 0&#45;&gt;8 -->\n",
       "<g id=\"edge8\" class=\"edge\">\n",
       "<title>0-&gt;8</title>\n",
       "<path fill=\"none\" stroke=\"black\" d=\"M179.11,-175.62C189.43,-172.08 200.03,-168.45 210.57,-164.83\"/>\n",
       "<polygon fill=\"black\" stroke=\"black\" points=\"211.89,-168.08 220.21,-161.53 209.61,-161.46 211.89,-168.08\"/>\n",
       "<text text-anchor=\"middle\" x=\"197.75\" y=\"-146.84\" font-family=\"Times New Roman,serif\" font-size=\"14.00\">False</text>\n",
       "</g>\n",
       "<!-- 2 -->\n",
       "<g id=\"node3\" class=\"node\">\n",
       "<title>2</title>\n",
       "<polygon fill=\"#e5833d\" stroke=\"black\" points=\"629.5,-427.5 489.5,-427.5 489.5,-344.5 629.5,-344.5 629.5,-427.5\"/>\n",
       "<text text-anchor=\"middle\" x=\"559.5\" y=\"-412.3\" font-family=\"Times New Roman,serif\" font-size=\"14.00\">Area (Error) &lt;= 45.17</text>\n",
       "<text text-anchor=\"middle\" x=\"559.5\" y=\"-397.3\" font-family=\"Times New Roman,serif\" font-size=\"14.00\">entropy = 0.13</text>\n",
       "<text text-anchor=\"middle\" x=\"559.5\" y=\"-382.3\" font-family=\"Times New Roman,serif\" font-size=\"14.00\">samples = 279</text>\n",
       "<text text-anchor=\"middle\" x=\"559.5\" y=\"-367.3\" font-family=\"Times New Roman,serif\" font-size=\"14.00\">value = [274, 5]</text>\n",
       "<text text-anchor=\"middle\" x=\"559.5\" y=\"-352.3\" font-family=\"Times New Roman,serif\" font-size=\"14.00\">class = 0</text>\n",
       "</g>\n",
       "<!-- 1&#45;&gt;2 -->\n",
       "<g id=\"edge2\" class=\"edge\">\n",
       "<title>1-&gt;2</title>\n",
       "<path fill=\"none\" stroke=\"black\" d=\"M396.78,-298.53C423.45,-312.95 453.38,-329.14 480.17,-343.63\"/>\n",
       "<polygon fill=\"black\" stroke=\"black\" points=\"478.67,-346.8 489.13,-348.48 482,-340.64 478.67,-346.8\"/>\n",
       "</g>\n",
       "<!-- 5 -->\n",
       "<g id=\"node6\" class=\"node\">\n",
       "<title>5</title>\n",
       "<polygon fill=\"#f7dac5\" stroke=\"black\" points=\"660,-298.5 459,-298.5 459,-215.5 660,-215.5 660,-298.5\"/>\n",
       "<text text-anchor=\"middle\" x=\"559.5\" y=\"-283.3\" font-family=\"Times New Roman,serif\" font-size=\"14.00\">Concave Points (Worst) &lt;= 0.16</text>\n",
       "<text text-anchor=\"middle\" x=\"559.5\" y=\"-268.3\" font-family=\"Times New Roman,serif\" font-size=\"14.00\">entropy = 0.979</text>\n",
       "<text text-anchor=\"middle\" x=\"559.5\" y=\"-253.3\" font-family=\"Times New Roman,serif\" font-size=\"14.00\">samples = 70</text>\n",
       "<text text-anchor=\"middle\" x=\"559.5\" y=\"-238.3\" font-family=\"Times New Roman,serif\" font-size=\"14.00\">value = [41, 29]</text>\n",
       "<text text-anchor=\"middle\" x=\"559.5\" y=\"-223.3\" font-family=\"Times New Roman,serif\" font-size=\"14.00\">class = 0</text>\n",
       "</g>\n",
       "<!-- 1&#45;&gt;5 -->\n",
       "<g id=\"edge5\" class=\"edge\">\n",
       "<title>1-&gt;5</title>\n",
       "<path fill=\"none\" stroke=\"black\" d=\"M423.22,-257C431.64,-257 440.16,-257 448.62,-257\"/>\n",
       "<polygon fill=\"black\" stroke=\"black\" points=\"448.89,-260.5 458.89,-257 448.89,-253.5 448.89,-260.5\"/>\n",
       "</g>\n",
       "<!-- 3 -->\n",
       "<g id=\"node4\" class=\"node\">\n",
       "<title>3</title>\n",
       "<polygon fill=\"#e5813a\" stroke=\"black\" points=\"802,-506 696,-506 696,-438 802,-438 802,-506\"/>\n",
       "<text text-anchor=\"middle\" x=\"749\" y=\"-490.8\" font-family=\"Times New Roman,serif\" font-size=\"14.00\">entropy = 0.035</text>\n",
       "<text text-anchor=\"middle\" x=\"749\" y=\"-475.8\" font-family=\"Times New Roman,serif\" font-size=\"14.00\">samples = 270</text>\n",
       "<text text-anchor=\"middle\" x=\"749\" y=\"-460.8\" font-family=\"Times New Roman,serif\" font-size=\"14.00\">value = [269, 1]</text>\n",
       "<text text-anchor=\"middle\" x=\"749\" y=\"-445.8\" font-family=\"Times New Roman,serif\" font-size=\"14.00\">class = 0</text>\n",
       "</g>\n",
       "<!-- 2&#45;&gt;3 -->\n",
       "<g id=\"edge3\" class=\"edge\">\n",
       "<title>2-&gt;3</title>\n",
       "<path fill=\"none\" stroke=\"black\" d=\"M629.52,-417.66C648.28,-426.26 668.46,-435.52 686.76,-443.91\"/>\n",
       "<polygon fill=\"black\" stroke=\"black\" points=\"685.3,-447.09 695.85,-448.08 688.22,-440.73 685.3,-447.09\"/>\n",
       "</g>\n",
       "<!-- 4 -->\n",
       "<g id=\"node5\" class=\"node\">\n",
       "<title>4</title>\n",
       "<polygon fill=\"#fae6d7\" stroke=\"black\" points=\"802,-420 696,-420 696,-352 802,-352 802,-420\"/>\n",
       "<text text-anchor=\"middle\" x=\"749\" y=\"-404.8\" font-family=\"Times New Roman,serif\" font-size=\"14.00\">entropy = 0.991</text>\n",
       "<text text-anchor=\"middle\" x=\"749\" y=\"-389.8\" font-family=\"Times New Roman,serif\" font-size=\"14.00\">samples = 9</text>\n",
       "<text text-anchor=\"middle\" x=\"749\" y=\"-374.8\" font-family=\"Times New Roman,serif\" font-size=\"14.00\">value = [5, 4]</text>\n",
       "<text text-anchor=\"middle\" x=\"749\" y=\"-359.8\" font-family=\"Times New Roman,serif\" font-size=\"14.00\">class = 0</text>\n",
       "</g>\n",
       "<!-- 2&#45;&gt;4 -->\n",
       "<g id=\"edge4\" class=\"edge\">\n",
       "<title>2-&gt;4</title>\n",
       "<path fill=\"none\" stroke=\"black\" d=\"M629.52,-386C647.94,-386 667.72,-386 685.75,-386\"/>\n",
       "<polygon fill=\"black\" stroke=\"black\" points=\"685.85,-389.5 695.85,-386 685.85,-382.5 685.85,-389.5\"/>\n",
       "</g>\n",
       "<!-- 6 -->\n",
       "<g id=\"node7\" class=\"node\">\n",
       "<title>6</title>\n",
       "<polygon fill=\"#efb286\" stroke=\"black\" points=\"802,-334 696,-334 696,-266 802,-266 802,-334\"/>\n",
       "<text text-anchor=\"middle\" x=\"749\" y=\"-318.8\" font-family=\"Times New Roman,serif\" font-size=\"14.00\">entropy = 0.856</text>\n",
       "<text text-anchor=\"middle\" x=\"749\" y=\"-303.8\" font-family=\"Times New Roman,serif\" font-size=\"14.00\">samples = 57</text>\n",
       "<text text-anchor=\"middle\" x=\"749\" y=\"-288.8\" font-family=\"Times New Roman,serif\" font-size=\"14.00\">value = [41, 16]</text>\n",
       "<text text-anchor=\"middle\" x=\"749\" y=\"-273.8\" font-family=\"Times New Roman,serif\" font-size=\"14.00\">class = 0</text>\n",
       "</g>\n",
       "<!-- 5&#45;&gt;6 -->\n",
       "<g id=\"edge6\" class=\"edge\">\n",
       "<title>5-&gt;6</title>\n",
       "<path fill=\"none\" stroke=\"black\" d=\"M660.01,-279.82C668.74,-281.82 677.4,-283.81 685.68,-285.71\"/>\n",
       "<polygon fill=\"black\" stroke=\"black\" points=\"685.06,-289.16 695.59,-287.98 686.62,-282.33 685.06,-289.16\"/>\n",
       "</g>\n",
       "<!-- 7 -->\n",
       "<g id=\"node8\" class=\"node\">\n",
       "<title>7</title>\n",
       "<polygon fill=\"#399de5\" stroke=\"black\" points=\"798,-248 700,-248 700,-180 798,-180 798,-248\"/>\n",
       "<text text-anchor=\"middle\" x=\"749\" y=\"-232.8\" font-family=\"Times New Roman,serif\" font-size=\"14.00\">entropy = 0.0</text>\n",
       "<text text-anchor=\"middle\" x=\"749\" y=\"-217.8\" font-family=\"Times New Roman,serif\" font-size=\"14.00\">samples = 13</text>\n",
       "<text text-anchor=\"middle\" x=\"749\" y=\"-202.8\" font-family=\"Times New Roman,serif\" font-size=\"14.00\">value = [0, 13]</text>\n",
       "<text text-anchor=\"middle\" x=\"749\" y=\"-187.8\" font-family=\"Times New Roman,serif\" font-size=\"14.00\">class = 1</text>\n",
       "</g>\n",
       "<!-- 5&#45;&gt;7 -->\n",
       "<g id=\"edge7\" class=\"edge\">\n",
       "<title>5-&gt;7</title>\n",
       "<path fill=\"none\" stroke=\"black\" d=\"M660.01,-234.18C670.29,-231.82 680.48,-229.48 690.07,-227.28\"/>\n",
       "<polygon fill=\"black\" stroke=\"black\" points=\"690.88,-230.69 699.84,-225.04 689.31,-223.87 690.88,-230.69\"/>\n",
       "</g>\n",
       "<!-- 9 -->\n",
       "<g id=\"node10\" class=\"node\">\n",
       "<title>9</title>\n",
       "<polygon fill=\"#c6e3f8\" stroke=\"black\" points=\"640.5,-169.5 478.5,-169.5 478.5,-86.5 640.5,-86.5 640.5,-169.5\"/>\n",
       "<text text-anchor=\"middle\" x=\"559.5\" y=\"-154.3\" font-family=\"Times New Roman,serif\" font-size=\"14.00\">Texture (Worst) &lt;= 28.97</text>\n",
       "<text text-anchor=\"middle\" x=\"559.5\" y=\"-139.3\" font-family=\"Times New Roman,serif\" font-size=\"14.00\">entropy = 0.98</text>\n",
       "<text text-anchor=\"middle\" x=\"559.5\" y=\"-124.3\" font-family=\"Times New Roman,serif\" font-size=\"14.00\">samples = 12</text>\n",
       "<text text-anchor=\"middle\" x=\"559.5\" y=\"-109.3\" font-family=\"Times New Roman,serif\" font-size=\"14.00\">value = [5, 7]</text>\n",
       "<text text-anchor=\"middle\" x=\"559.5\" y=\"-94.3\" font-family=\"Times New Roman,serif\" font-size=\"14.00\">class = 1</text>\n",
       "</g>\n",
       "<!-- 8&#45;&gt;9 -->\n",
       "<g id=\"edge9\" class=\"edge\">\n",
       "<title>8-&gt;9</title>\n",
       "<path fill=\"none\" stroke=\"black\" d=\"M417.7,-128C434.42,-128 451.73,-128 468.25,-128\"/>\n",
       "<polygon fill=\"black\" stroke=\"black\" points=\"468.42,-131.5 478.42,-128 468.42,-124.5 468.42,-131.5\"/>\n",
       "</g>\n",
       "<!-- 12 -->\n",
       "<g id=\"node13\" class=\"node\">\n",
       "<title>12</title>\n",
       "<polygon fill=\"#399de5\" stroke=\"black\" points=\"611.5,-68 507.5,-68 507.5,0 611.5,0 611.5,-68\"/>\n",
       "<text text-anchor=\"middle\" x=\"559.5\" y=\"-52.8\" font-family=\"Times New Roman,serif\" font-size=\"14.00\">entropy = 0.0</text>\n",
       "<text text-anchor=\"middle\" x=\"559.5\" y=\"-37.8\" font-family=\"Times New Roman,serif\" font-size=\"14.00\">samples = 148</text>\n",
       "<text text-anchor=\"middle\" x=\"559.5\" y=\"-22.8\" font-family=\"Times New Roman,serif\" font-size=\"14.00\">value = [0, 148]</text>\n",
       "<text text-anchor=\"middle\" x=\"559.5\" y=\"-7.8\" font-family=\"Times New Roman,serif\" font-size=\"14.00\">class = 1</text>\n",
       "</g>\n",
       "<!-- 8&#45;&gt;12 -->\n",
       "<g id=\"edge12\" class=\"edge\">\n",
       "<title>8-&gt;12</title>\n",
       "<path fill=\"none\" stroke=\"black\" d=\"M417.7,-89.5C444.84,-78.8 473.52,-67.49 497.87,-57.9\"/>\n",
       "<polygon fill=\"black\" stroke=\"black\" points=\"499.3,-61.1 507.32,-54.17 496.73,-54.58 499.3,-61.1\"/>\n",
       "</g>\n",
       "<!-- 10 -->\n",
       "<g id=\"node11\" class=\"node\">\n",
       "<title>10</title>\n",
       "<polygon fill=\"#efb388\" stroke=\"black\" points=\"802,-162 696,-162 696,-94 802,-94 802,-162\"/>\n",
       "<text text-anchor=\"middle\" x=\"749\" y=\"-146.8\" font-family=\"Times New Roman,serif\" font-size=\"14.00\">entropy = 0.863</text>\n",
       "<text text-anchor=\"middle\" x=\"749\" y=\"-131.8\" font-family=\"Times New Roman,serif\" font-size=\"14.00\">samples = 7</text>\n",
       "<text text-anchor=\"middle\" x=\"749\" y=\"-116.8\" font-family=\"Times New Roman,serif\" font-size=\"14.00\">value = [5, 2]</text>\n",
       "<text text-anchor=\"middle\" x=\"749\" y=\"-101.8\" font-family=\"Times New Roman,serif\" font-size=\"14.00\">class = 0</text>\n",
       "</g>\n",
       "<!-- 9&#45;&gt;10 -->\n",
       "<g id=\"edge10\" class=\"edge\">\n",
       "<title>9-&gt;10</title>\n",
       "<path fill=\"none\" stroke=\"black\" d=\"M640.56,-128C655.62,-128 671.16,-128 685.58,-128\"/>\n",
       "<polygon fill=\"black\" stroke=\"black\" points=\"685.86,-131.5 695.86,-128 685.86,-124.5 685.86,-131.5\"/>\n",
       "</g>\n",
       "<!-- 11 -->\n",
       "<g id=\"node12\" class=\"node\">\n",
       "<title>11</title>\n",
       "<polygon fill=\"#399de5\" stroke=\"black\" points=\"795,-76 703,-76 703,-8 795,-8 795,-76\"/>\n",
       "<text text-anchor=\"middle\" x=\"749\" y=\"-60.8\" font-family=\"Times New Roman,serif\" font-size=\"14.00\">entropy = 0.0</text>\n",
       "<text text-anchor=\"middle\" x=\"749\" y=\"-45.8\" font-family=\"Times New Roman,serif\" font-size=\"14.00\">samples = 5</text>\n",
       "<text text-anchor=\"middle\" x=\"749\" y=\"-30.8\" font-family=\"Times New Roman,serif\" font-size=\"14.00\">value = [0, 5]</text>\n",
       "<text text-anchor=\"middle\" x=\"749\" y=\"-15.8\" font-family=\"Times New Roman,serif\" font-size=\"14.00\">class = 1</text>\n",
       "</g>\n",
       "<!-- 9&#45;&gt;11 -->\n",
       "<g id=\"edge11\" class=\"edge\">\n",
       "<title>9-&gt;11</title>\n",
       "<path fill=\"none\" stroke=\"black\" d=\"M640.56,-91.28C658.37,-83.11 676.85,-74.64 693.35,-67.06\"/>\n",
       "<polygon fill=\"black\" stroke=\"black\" points=\"695.2,-70.07 702.83,-62.72 692.28,-63.71 695.2,-70.07\"/>\n",
       "</g>\n",
       "</g>\n",
       "</svg>"
      ],
      "text/plain": [
       "<IPython.core.display.SVG object>"
      ]
     },
     "metadata": {},
     "output_type": "display_data"
    }
   ],
   "source": [
    "from sklearn import tree\n",
    "\n",
    "# Instanting model\n",
    "model = DecisionTreeClassifier(random_state=None, \n",
    "                               max_depth=3,\n",
    "                               criterion='entropy')\n",
    "\n",
    "# 10-fold cross-validation\n",
    "scores = cross_validate(model, X, y, cv=10, return_estimator=True)\n",
    "\n",
    "print(\"Accuracy: %0.2f (+/- %0.2f)\" % (scores['test_score'].mean(), scores['test_score'].std() * 2))\n",
    "\n",
    "# Getting the trained model from the 1st fold\n",
    "model = scores['estimator'][0]\n",
    "\n",
    "features = X\n",
    "class_labels = y\n",
    "\n",
    "# Visualising the tree\n",
    "visualise_tree(model, features, class_labels)"
   ]
  },
  {
   "cell_type": "code",
   "execution_count": null,
   "metadata": {
    "ExecuteTime": {
     "end_time": "2021-01-15T12:11:54.471397Z",
     "start_time": "2021-01-15T12:11:32.260Z"
    }
   },
   "outputs": [],
   "source": []
  },
  {
   "cell_type": "code",
   "execution_count": null,
   "metadata": {
    "ExecuteTime": {
     "end_time": "2021-01-15T12:11:54.472405Z",
     "start_time": "2021-01-15T12:11:32.263Z"
    }
   },
   "outputs": [],
   "source": []
  },
  {
   "cell_type": "code",
   "execution_count": null,
   "metadata": {
    "ExecuteTime": {
     "end_time": "2021-01-15T12:11:54.472405Z",
     "start_time": "2021-01-15T12:11:32.266Z"
    }
   },
   "outputs": [],
   "source": []
  },
  {
   "cell_type": "code",
   "execution_count": null,
   "metadata": {
    "ExecuteTime": {
     "end_time": "2021-01-13T22:21:13.873564Z",
     "start_time": "2021-01-13T22:21:13.782616Z"
    }
   },
   "outputs": [],
   "source": []
  },
  {
   "cell_type": "code",
   "execution_count": null,
   "metadata": {},
   "outputs": [],
   "source": []
  }
 ],
 "metadata": {
  "kernelspec": {
   "display_name": "Python 3",
   "language": "python",
   "name": "python3"
  },
  "language_info": {
   "codemirror_mode": {
    "name": "ipython",
    "version": 3
   },
   "file_extension": ".py",
   "mimetype": "text/x-python",
   "name": "python",
   "nbconvert_exporter": "python",
   "pygments_lexer": "ipython3",
   "version": "3.8.8"
  },
  "toc": {
   "base_numbering": 1,
   "nav_menu": {},
   "number_sections": true,
   "sideBar": true,
   "skip_h1_title": false,
   "title_cell": "Table of Contents",
   "title_sidebar": "Contents",
   "toc_cell": false,
   "toc_position": {
    "height": "calc(100% - 180px)",
    "left": "10px",
    "top": "150px",
    "width": "298px"
   },
   "toc_section_display": true,
   "toc_window_display": false
  },
  "varInspector": {
   "cols": {
    "lenName": 16,
    "lenType": 16,
    "lenVar": 40
   },
   "kernels_config": {
    "python": {
     "delete_cmd_postfix": "",
     "delete_cmd_prefix": "del ",
     "library": "var_list.py",
     "varRefreshCmd": "print(var_dic_list())"
    },
    "r": {
     "delete_cmd_postfix": ") ",
     "delete_cmd_prefix": "rm(",
     "library": "var_list.r",
     "varRefreshCmd": "cat(var_dic_list()) "
    }
   },
   "types_to_exclude": [
    "module",
    "function",
    "builtin_function_or_method",
    "instance",
    "_Feature"
   ],
   "window_display": false
  }
 },
 "nbformat": 4,
 "nbformat_minor": 2
}
